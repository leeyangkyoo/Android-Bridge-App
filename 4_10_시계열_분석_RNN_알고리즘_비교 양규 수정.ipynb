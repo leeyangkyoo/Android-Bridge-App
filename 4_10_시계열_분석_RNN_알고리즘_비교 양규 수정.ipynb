{
  "nbformat": 4,
  "nbformat_minor": 0,
  "metadata": {
    "kernelspec": {
      "display_name": "Python 3",
      "language": "python",
      "name": "python3"
    },
    "language_info": {
      "codemirror_mode": {
        "name": "ipython",
        "version": 3
      },
      "file_extension": ".py",
      "mimetype": "text/x-python",
      "name": "python",
      "nbconvert_exporter": "python",
      "pygments_lexer": "ipython3",
      "version": "3.7.3"
    },
    "colab": {
      "name": "4.10 시계열 분석 RNN 알고리즘 비교.ipynb",
      "provenance": [],
      "include_colab_link": true
    },
    "accelerator": "GPU"
  },
  "cells": [
    {
      "cell_type": "markdown",
      "metadata": {
        "id": "view-in-github",
        "colab_type": "text"
      },
      "source": [
        "<a href=\"https://colab.research.google.com/github/leeyangkyoo/Android-Bridge-App/blob/master/4_10_%EC%8B%9C%EA%B3%84%EC%97%B4_%EB%B6%84%EC%84%9D_RNN_%EC%95%8C%EA%B3%A0%EB%A6%AC%EC%A6%98_%EB%B9%84%EA%B5%90%20%EC%96%91%EA%B7%9C%20%EC%88%98%EC%A0%95.ipynb\" target=\"_parent\"><img src=\"https://colab.research.google.com/assets/colab-badge.svg\" alt=\"Open In Colab\"/></a>"
      ]
    },
    {
      "cell_type": "markdown",
      "metadata": {
        "id": "8foAt6gCBmAx",
        "colab_type": "text"
      },
      "source": [
        "# 4.10 시계열 분석 RNN 알고리즘 비교\n",
        "모델\n",
        "* 다층퍼셉트론 모델\n",
        "* 순환신경망 모델\n",
        "* 상태유지 순환신경망 모델\n",
        "* 상태유지 스택 순환신경망 모델\n",
        "\n",
        "To learn\n",
        "* MinMaxScaler\n",
        "* reshape\n"
      ]
    },
    {
      "cell_type": "code",
      "metadata": {
        "id": "v3lYghtLBmAy",
        "colab_type": "code",
        "colab": {}
      },
      "source": [
        "import tensorflow as tf\n",
        "import numpy as np\n",
        "import pandas as pd"
      ],
      "execution_count": 1,
      "outputs": []
    },
    {
      "cell_type": "code",
      "metadata": {
        "id": "izUjIvo7BmA9",
        "colab_type": "code",
        "colab": {
          "base_uri": "https://localhost:8080/",
          "height": 70
        },
        "outputId": "09f9d6b0-4a88-41d0-a65c-9f4a620d7219"
      },
      "source": [
        "import matplotlib.pyplot as plt\n",
        "import seaborn as sns\n",
        "%matplotlib inline"
      ],
      "execution_count": 2,
      "outputs": [
        {
          "output_type": "stream",
          "text": [
            "/usr/local/lib/python3.6/dist-packages/statsmodels/tools/_testing.py:19: FutureWarning: pandas.util.testing is deprecated. Use the functions in the public API at pandas.testing instead.\n",
            "  import pandas.util.testing as tm\n"
          ],
          "name": "stderr"
        }
      ]
    },
    {
      "cell_type": "code",
      "metadata": {
        "id": "mqm7Ofusa9Vr",
        "colab_type": "code",
        "colab": {}
      },
      "source": [
        "from sklearn.preprocessing import MinMaxScaler"
      ],
      "execution_count": 3,
      "outputs": []
    },
    {
      "cell_type": "code",
      "metadata": {
        "id": "Ok5WFjSwBmBB",
        "colab_type": "code",
        "colab": {}
      },
      "source": [
        "seed = 0\n",
        "np.random.seed(seed)\n",
        "tf.random.set_seed(seed)"
      ],
      "execution_count": 4,
      "outputs": []
    },
    {
      "cell_type": "code",
      "metadata": {
        "id": "Z6_GH8xva2RJ",
        "colab_type": "code",
        "colab": {}
      },
      "source": [
        "dataset = pd.read_csv(\"./sample01.csv\", delimiter=\",\")"
      ],
      "execution_count": 5,
      "outputs": []
    },
    {
      "cell_type": "code",
      "metadata": {
        "id": "PzmRufLPbkTw",
        "colab_type": "code",
        "colab": {
          "base_uri": "https://localhost:8080/",
          "height": 168
        },
        "outputId": "a6c0c16b-c063-4f06-f30b-72a9bca7bba5"
      },
      "source": [
        "dataset.info()"
      ],
      "execution_count": 6,
      "outputs": [
        {
          "output_type": "stream",
          "text": [
            "<class 'pandas.core.frame.DataFrame'>\n",
            "RangeIndex: 262144 entries, 0 to 262143\n",
            "Data columns (total 2 columns):\n",
            " #   Column  Non-Null Count   Dtype  \n",
            "---  ------  --------------   -----  \n",
            " 0   Time    262144 non-null  float64\n",
            " 1   Vol     262144 non-null  float64\n",
            "dtypes: float64(2)\n",
            "memory usage: 4.0 MB\n"
          ],
          "name": "stdout"
        }
      ]
    },
    {
      "cell_type": "code",
      "metadata": {
        "id": "R2JmD1Cybl1o",
        "colab_type": "code",
        "colab": {
          "base_uri": "https://localhost:8080/",
          "height": 284
        },
        "outputId": "3ac21293-2607-4934-d118-5320bb1966e8"
      },
      "source": [
        "dataset.describe()"
      ],
      "execution_count": 7,
      "outputs": [
        {
          "output_type": "execute_result",
          "data": {
            "text/html": [
              "<div>\n",
              "<style scoped>\n",
              "    .dataframe tbody tr th:only-of-type {\n",
              "        vertical-align: middle;\n",
              "    }\n",
              "\n",
              "    .dataframe tbody tr th {\n",
              "        vertical-align: top;\n",
              "    }\n",
              "\n",
              "    .dataframe thead th {\n",
              "        text-align: right;\n",
              "    }\n",
              "</style>\n",
              "<table border=\"1\" class=\"dataframe\">\n",
              "  <thead>\n",
              "    <tr style=\"text-align: right;\">\n",
              "      <th></th>\n",
              "      <th>Time</th>\n",
              "      <th>Vol</th>\n",
              "    </tr>\n",
              "  </thead>\n",
              "  <tbody>\n",
              "    <tr>\n",
              "      <th>count</th>\n",
              "      <td>2.621440e+05</td>\n",
              "      <td>262144.000000</td>\n",
              "    </tr>\n",
              "    <tr>\n",
              "      <th>mean</th>\n",
              "      <td>2.184525e+06</td>\n",
              "      <td>0.103507</td>\n",
              "    </tr>\n",
              "    <tr>\n",
              "      <th>std</th>\n",
              "      <td>1.261243e+06</td>\n",
              "      <td>0.105381</td>\n",
              "    </tr>\n",
              "    <tr>\n",
              "      <th>min</th>\n",
              "      <td>0.000000e+00</td>\n",
              "      <td>-0.004310</td>\n",
              "    </tr>\n",
              "    <tr>\n",
              "      <th>25%</th>\n",
              "      <td>1.092263e+06</td>\n",
              "      <td>0.002517</td>\n",
              "    </tr>\n",
              "    <tr>\n",
              "      <th>50%</th>\n",
              "      <td>2.184525e+06</td>\n",
              "      <td>0.003552</td>\n",
              "    </tr>\n",
              "    <tr>\n",
              "      <th>75%</th>\n",
              "      <td>3.276787e+06</td>\n",
              "      <td>0.212313</td>\n",
              "    </tr>\n",
              "    <tr>\n",
              "      <th>max</th>\n",
              "      <td>4.369050e+06</td>\n",
              "      <td>0.219347</td>\n",
              "    </tr>\n",
              "  </tbody>\n",
              "</table>\n",
              "</div>"
            ],
            "text/plain": [
              "               Time            Vol\n",
              "count  2.621440e+05  262144.000000\n",
              "mean   2.184525e+06       0.103507\n",
              "std    1.261243e+06       0.105381\n",
              "min    0.000000e+00      -0.004310\n",
              "25%    1.092263e+06       0.002517\n",
              "50%    2.184525e+06       0.003552\n",
              "75%    3.276787e+06       0.212313\n",
              "max    4.369050e+06       0.219347"
            ]
          },
          "metadata": {
            "tags": []
          },
          "execution_count": 7
        }
      ]
    },
    {
      "cell_type": "code",
      "metadata": {
        "id": "18a-VkXdbqPF",
        "colab_type": "code",
        "colab": {
          "base_uri": "https://localhost:8080/",
          "height": 282
        },
        "outputId": "33b941bd-a136-49e6-97d6-b0f595fb3663"
      },
      "source": [
        "dataset['Vol'].plot()"
      ],
      "execution_count": 8,
      "outputs": [
        {
          "output_type": "execute_result",
          "data": {
            "text/plain": [
              "<matplotlib.axes._subplots.AxesSubplot at 0x7f53cc90cb38>"
            ]
          },
          "metadata": {
            "tags": []
          },
          "execution_count": 8
        },
        {
          "output_type": "display_data",
          "data": {
            "image/png": "[encoded data removed]",
            "text/plain": [
              "<Figure size 432x288 with 1 Axes>"
            ]
          },
          "metadata": {
            "tags": [],
            "needs_background": "light"
          }
        }
      ]
    },
    {
      "cell_type": "code",
      "metadata": {
        "id": "a_FCq3MjBmBE",
        "colab_type": "code",
        "colab": {
          "base_uri": "https://localhost:8080/",
          "height": 265
        },
        "outputId": "ceedaedc-fcaf-4a06-bfc0-c974df21fa5b"
      },
      "source": [
        "#signal_data = np.cos(np.arange(1600)*(20*np.pi/1000))[:,None]\n",
        "\n",
        "plot_x = np.arange(1600)\n",
        "plot_y = signal_data\n",
        "#plt.plot(plot_x, plot_y)\n",
        "plt.plot(signal_data)\n",
        "plt.show()"
      ],
      "execution_count": 19,
      "outputs": [
        {
          "output_type": "display_data",
          "data": {
            "image/png": "[encoded data removed]",
            "text/plain": [
              "<Figure size 432x288 with 1 Axes>"
            ]
          },
          "metadata": {
            "tags": [],
            "needs_background": "light"
          }
        }
      ]
    },
    {
      "cell_type": "code",
      "metadata": {
        "id": "oXsdVFmZc1QS",
        "colab_type": "code",
        "colab": {
          "base_uri": "https://localhost:8080/",
          "height": 218
        },
        "outputId": "f26d3381-3065-457d-b05d-2e733a737f85"
      },
      "source": [
        "#dataset['Vol']\n",
        "signal_data = dataset['Vol']\n",
        "signal_data"
      ],
      "execution_count": 18,
      "outputs": [
        {
          "output_type": "execute_result",
          "data": {
            "text/plain": [
              "0         0.002724\n",
              "1         0.002724\n",
              "2         0.002724\n",
              "3         0.002724\n",
              "4         0.001897\n",
              "            ...   \n",
              "262139    0.214795\n",
              "262140    0.214795\n",
              "262141    0.214382\n",
              "262142    0.214382\n",
              "262143    0.214382\n",
              "Name: Vol, Length: 262144, dtype: float64"
            ]
          },
          "metadata": {
            "tags": []
          },
          "execution_count": 18
        }
      ]
    },
    {
      "cell_type": "code",
      "metadata": {
        "id": "jW6l6FS1cvEq",
        "colab_type": "code",
        "colab": {}
      },
      "source": [
        "signal_data = dataset['Vol']\n",
        "\n",
        "plot_x = np.arange(262143)\n",
        "plot_y = signal_data\n",
        "plt.plot(plot_x, plot_y)\n",
        "plt.show()"
      ],
      "execution_count": null,
      "outputs": []
    },
    {
      "cell_type": "code",
      "metadata": {
        "id": "n_YOZraTdTl0",
        "colab_type": "code",
        "colab": {
          "base_uri": "https://localhost:8080/",
          "height": 218
        },
        "outputId": "79da93d3-467f-49a8-a8f8-ed4956525ef9"
      },
      "source": [
        "signal_data\n",
        "\n"
      ],
      "execution_count": 25,
      "outputs": [
        {
          "output_type": "execute_result",
          "data": {
            "text/plain": [
              "0         0.002724\n",
              "1         0.002724\n",
              "2         0.002724\n",
              "3         0.002724\n",
              "4         0.001897\n",
              "            ...   \n",
              "262139    0.214795\n",
              "262140    0.214795\n",
              "262141    0.214382\n",
              "262142    0.214382\n",
              "262143    0.214382\n",
              "Name: Vol, Length: 262144, dtype: float64"
            ]
          },
          "metadata": {
            "tags": []
          },
          "execution_count": 25
        }
      ]
    },
    {
      "cell_type": "code",
      "metadata": {
        "id": "GOGaTFNrOEHX",
        "colab_type": "code",
        "colab": {
          "base_uri": "https://localhost:8080/",
          "height": 34
        },
        "outputId": "264352a4-e291-41ce-c1bf-15d8c1f87d14"
      },
      "source": [
        "plot_x"
      ],
      "execution_count": 21,
      "outputs": [
        {
          "output_type": "execute_result",
          "data": {
            "text/plain": [
              "array([   0,    1,    2, ..., 1597, 1598, 1599])"
            ]
          },
          "metadata": {
            "tags": []
          },
          "execution_count": 21
        }
      ]
    },
    {
      "cell_type": "code",
      "metadata": {
        "id": "XSUZpC_xBmBJ",
        "colab_type": "code",
        "colab": {}
      },
      "source": [
        "def create_dataset(signal_data, look_back=1):\n",
        "    dataX, dataY = [], []\n",
        "    for i in range(len(signal_data)-look_back):\n",
        "        dataX.append(signal_data[i:(i+look_back), 0])\n",
        "        dataY.append(signal_data[i + look_back, 0])\n",
        "    return np.array(dataX), np.array(dataY)"
      ],
      "execution_count": 22,
      "outputs": []
    },
    {
      "cell_type": "code",
      "metadata": {
        "id": "RIFNe597BmBO",
        "colab_type": "code",
        "colab": {
          "base_uri": "https://localhost:8080/",
          "height": 422
        },
        "outputId": "be49a9cd-e522-49d9-a3ff-7cc00db8c967"
      },
      "source": [
        "from sklearn.preprocessing import MinMaxScaler\n",
        "\n",
        "look_back = 40 # window\n",
        "\n",
        "# 데이터 전처리\n",
        "scaler = MinMaxScaler(feature_range=(0, 1))\n",
        "signal_data = scaler.fit_transform(signal_data)\n",
        "\n",
        "# 데이터 분리\n",
        "train = signal_data[0:800]\n",
        "val = signal_data[800:1200]\n",
        "test = signal_data[1200:]\n",
        "\n",
        "# 데이터셋 생성\n",
        "x_train, y_train = create_dataset(train, look_back)\n",
        "x_val, y_val = create_dataset(val, look_back)\n",
        "x_test, y_test = create_dataset(test, look_back)\n",
        "\n",
        "# 데이터셋 전처리\n",
        "x_train = np.reshape(x_train, (x_train.shape[0], x_train.shape[1], 1))\n",
        "x_val = np.reshape(x_val, (x_val.shape[0], x_val.shape[1], 1))\n",
        "x_test = np.reshape(x_test, (x_test.shape[0], x_test.shape[1], 1))\n",
        "\n",
        "x_train = np.squeeze(x_train)\n",
        "x_val = np.squeeze(x_val)\n",
        "x_test = np.squeeze(x_test)\n"
      ],
      "execution_count": 23,
      "outputs": [
        {
          "output_type": "error",
          "ename": "ValueError",
          "evalue": "ignored",
          "traceback": [
            "\u001b[0;31m---------------------------------------------------------------------------\u001b[0m",
            "\u001b[0;31mValueError\u001b[0m                                Traceback (most recent call last)",
            "\u001b[0;32m<ipython-input-23-a295b12e4557>\u001b[0m in \u001b[0;36m<module>\u001b[0;34m()\u001b[0m\n\u001b[1;32m      5\u001b[0m \u001b[0;31m# 데이터 전처리\u001b[0m\u001b[0;34m\u001b[0m\u001b[0;34m\u001b[0m\u001b[0;34m\u001b[0m\u001b[0m\n\u001b[1;32m      6\u001b[0m \u001b[0mscaler\u001b[0m \u001b[0;34m=\u001b[0m \u001b[0mMinMaxScaler\u001b[0m\u001b[0;34m(\u001b[0m\u001b[0mfeature_range\u001b[0m\u001b[0;34m=\u001b[0m\u001b[0;34m(\u001b[0m\u001b[0;36m0\u001b[0m\u001b[0;34m,\u001b[0m \u001b[0;36m1\u001b[0m\u001b[0;34m)\u001b[0m\u001b[0;34m)\u001b[0m\u001b[0;34m\u001b[0m\u001b[0;34m\u001b[0m\u001b[0m\n\u001b[0;32m----> 7\u001b[0;31m \u001b[0msignal_data\u001b[0m \u001b[0;34m=\u001b[0m \u001b[0mscaler\u001b[0m\u001b[0;34m.\u001b[0m\u001b[0mfit_transform\u001b[0m\u001b[0;34m(\u001b[0m\u001b[0msignal_data\u001b[0m\u001b[0;34m)\u001b[0m\u001b[0;34m\u001b[0m\u001b[0;34m\u001b[0m\u001b[0m\n\u001b[0m\u001b[1;32m      8\u001b[0m \u001b[0;34m\u001b[0m\u001b[0m\n\u001b[1;32m      9\u001b[0m \u001b[0;31m# 데이터 분리\u001b[0m\u001b[0;34m\u001b[0m\u001b[0;34m\u001b[0m\u001b[0;34m\u001b[0m\u001b[0m\n",
            "\u001b[0;32m/usr/local/lib/python3.6/dist-packages/sklearn/base.py\u001b[0m in \u001b[0;36mfit_transform\u001b[0;34m(self, X, y, **fit_params)\u001b[0m\n\u001b[1;32m    569\u001b[0m         \u001b[0;32mif\u001b[0m \u001b[0my\u001b[0m \u001b[0;32mis\u001b[0m \u001b[0;32mNone\u001b[0m\u001b[0;34m:\u001b[0m\u001b[0;34m\u001b[0m\u001b[0;34m\u001b[0m\u001b[0m\n\u001b[1;32m    570\u001b[0m             \u001b[0;31m# fit method of arity 1 (unsupervised transformation)\u001b[0m\u001b[0;34m\u001b[0m\u001b[0;34m\u001b[0m\u001b[0;34m\u001b[0m\u001b[0m\n\u001b[0;32m--> 571\u001b[0;31m             \u001b[0;32mreturn\u001b[0m \u001b[0mself\u001b[0m\u001b[0;34m.\u001b[0m\u001b[0mfit\u001b[0m\u001b[0;34m(\u001b[0m\u001b[0mX\u001b[0m\u001b[0;34m,\u001b[0m \u001b[0;34m**\u001b[0m\u001b[0mfit_params\u001b[0m\u001b[0;34m)\u001b[0m\u001b[0;34m.\u001b[0m\u001b[0mtransform\u001b[0m\u001b[0;34m(\u001b[0m\u001b[0mX\u001b[0m\u001b[0;34m)\u001b[0m\u001b[0;34m\u001b[0m\u001b[0;34m\u001b[0m\u001b[0m\n\u001b[0m\u001b[1;32m    572\u001b[0m         \u001b[0;32melse\u001b[0m\u001b[0;34m:\u001b[0m\u001b[0;34m\u001b[0m\u001b[0;34m\u001b[0m\u001b[0m\n\u001b[1;32m    573\u001b[0m             \u001b[0;31m# fit method of arity 2 (supervised transformation)\u001b[0m\u001b[0;34m\u001b[0m\u001b[0;34m\u001b[0m\u001b[0;34m\u001b[0m\u001b[0m\n",
            "\u001b[0;32m/usr/local/lib/python3.6/dist-packages/sklearn/preprocessing/_data.py\u001b[0m in \u001b[0;36mfit\u001b[0;34m(self, X, y)\u001b[0m\n\u001b[1;32m    337\u001b[0m         \u001b[0;31m# Reset internal state before fitting\u001b[0m\u001b[0;34m\u001b[0m\u001b[0;34m\u001b[0m\u001b[0;34m\u001b[0m\u001b[0m\n\u001b[1;32m    338\u001b[0m         \u001b[0mself\u001b[0m\u001b[0;34m.\u001b[0m\u001b[0m_reset\u001b[0m\u001b[0;34m(\u001b[0m\u001b[0;34m)\u001b[0m\u001b[0;34m\u001b[0m\u001b[0;34m\u001b[0m\u001b[0m\n\u001b[0;32m--> 339\u001b[0;31m         \u001b[0;32mreturn\u001b[0m \u001b[0mself\u001b[0m\u001b[0;34m.\u001b[0m\u001b[0mpartial_fit\u001b[0m\u001b[0;34m(\u001b[0m\u001b[0mX\u001b[0m\u001b[0;34m,\u001b[0m \u001b[0my\u001b[0m\u001b[0;34m)\u001b[0m\u001b[0;34m\u001b[0m\u001b[0;34m\u001b[0m\u001b[0m\n\u001b[0m\u001b[1;32m    340\u001b[0m \u001b[0;34m\u001b[0m\u001b[0m\n\u001b[1;32m    341\u001b[0m     \u001b[0;32mdef\u001b[0m \u001b[0mpartial_fit\u001b[0m\u001b[0;34m(\u001b[0m\u001b[0mself\u001b[0m\u001b[0;34m,\u001b[0m \u001b[0mX\u001b[0m\u001b[0;34m,\u001b[0m \u001b[0my\u001b[0m\u001b[0;34m=\u001b[0m\u001b[0;32mNone\u001b[0m\u001b[0;34m)\u001b[0m\u001b[0;34m:\u001b[0m\u001b[0;34m\u001b[0m\u001b[0;34m\u001b[0m\u001b[0m\n",
            "\u001b[0;32m/usr/local/lib/python3.6/dist-packages/sklearn/preprocessing/_data.py\u001b[0m in \u001b[0;36mpartial_fit\u001b[0;34m(self, X, y)\u001b[0m\n\u001b[1;32m    371\u001b[0m         X = check_array(X,\n\u001b[1;32m    372\u001b[0m                         \u001b[0mestimator\u001b[0m\u001b[0;34m=\u001b[0m\u001b[0mself\u001b[0m\u001b[0;34m,\u001b[0m \u001b[0mdtype\u001b[0m\u001b[0;34m=\u001b[0m\u001b[0mFLOAT_DTYPES\u001b[0m\u001b[0;34m,\u001b[0m\u001b[0;34m\u001b[0m\u001b[0;34m\u001b[0m\u001b[0m\n\u001b[0;32m--> 373\u001b[0;31m                         force_all_finite=\"allow-nan\")\n\u001b[0m\u001b[1;32m    374\u001b[0m \u001b[0;34m\u001b[0m\u001b[0m\n\u001b[1;32m    375\u001b[0m         \u001b[0mdata_min\u001b[0m \u001b[0;34m=\u001b[0m \u001b[0mnp\u001b[0m\u001b[0;34m.\u001b[0m\u001b[0mnanmin\u001b[0m\u001b[0;34m(\u001b[0m\u001b[0mX\u001b[0m\u001b[0;34m,\u001b[0m \u001b[0maxis\u001b[0m\u001b[0;34m=\u001b[0m\u001b[0;36m0\u001b[0m\u001b[0;34m)\u001b[0m\u001b[0;34m\u001b[0m\u001b[0;34m\u001b[0m\u001b[0m\n",
            "\u001b[0;32m/usr/local/lib/python3.6/dist-packages/sklearn/utils/validation.py\u001b[0m in \u001b[0;36mcheck_array\u001b[0;34m(array, accept_sparse, accept_large_sparse, dtype, order, copy, force_all_finite, ensure_2d, allow_nd, ensure_min_samples, ensure_min_features, warn_on_dtype, estimator)\u001b[0m\n\u001b[1;32m    554\u001b[0m                     \u001b[0;34m\"Reshape your data either using array.reshape(-1, 1) if \"\u001b[0m\u001b[0;34m\u001b[0m\u001b[0;34m\u001b[0m\u001b[0m\n\u001b[1;32m    555\u001b[0m                     \u001b[0;34m\"your data has a single feature or array.reshape(1, -1) \"\u001b[0m\u001b[0;34m\u001b[0m\u001b[0;34m\u001b[0m\u001b[0m\n\u001b[0;32m--> 556\u001b[0;31m                     \"if it contains a single sample.\".format(array))\n\u001b[0m\u001b[1;32m    557\u001b[0m \u001b[0;34m\u001b[0m\u001b[0m\n\u001b[1;32m    558\u001b[0m         \u001b[0;31m# in the future np.flexible dtypes will be handled like object dtypes\u001b[0m\u001b[0;34m\u001b[0m\u001b[0;34m\u001b[0m\u001b[0;34m\u001b[0m\u001b[0m\n",
            "\u001b[0;31mValueError\u001b[0m: Expected 2D array, got 1D array instead:\narray=[0.002724 0.002724 0.002724 ... 0.214382 0.214382 0.214382].\nReshape your data either using array.reshape(-1, 1) if your data has a single feature or array.reshape(1, -1) if it contains a single sample."
          ]
        }
      ]
    },
    {
      "cell_type": "code",
      "metadata": {
        "id": "NCo8Hx4FBmBS",
        "colab_type": "code",
        "colab": {
          "base_uri": "https://localhost:8080/",
          "height": 151
        },
        "outputId": "62beb382-0447-4990-d4c8-c95454e7b3b7"
      },
      "source": [
        "x_train[0]"
      ],
      "execution_count": 20,
      "outputs": [
        {
          "output_type": "execute_result",
          "data": {
            "text/plain": [
              "array([1.        , 0.99901336, 0.99605735, 0.99114363, 0.98429158,\n",
              "       0.97552826, 0.96488824, 0.95241353, 0.93815334, 0.92216396,\n",
              "       0.9045085 , 0.88525662, 0.86448431, 0.84227355, 0.81871199,\n",
              "       0.79389263, 0.7679134 , 0.74087684, 0.71288965, 0.68406228,\n",
              "       0.6545085 , 0.62434494, 0.59369066, 0.56266662, 0.53139526,\n",
              "       0.5       , 0.46860474, 0.43733338, 0.40630934, 0.37565506,\n",
              "       0.3454915 , 0.31593772, 0.28711035, 0.25912316, 0.2320866 ,\n",
              "       0.20610737, 0.18128801, 0.15772645, 0.13551569, 0.11474338])"
            ]
          },
          "metadata": {
            "tags": []
          },
          "execution_count": 20
        }
      ]
    },
    {
      "cell_type": "code",
      "metadata": {
        "id": "n-g-STfHBmBW",
        "colab_type": "code",
        "colab": {
          "base_uri": "https://localhost:8080/",
          "height": 34
        },
        "outputId": "26b140e9-0c34-4b28-c71a-d9935c186fdb"
      },
      "source": [
        "x_train.shape"
      ],
      "execution_count": 21,
      "outputs": [
        {
          "output_type": "execute_result",
          "data": {
            "text/plain": [
              "(760, 40)"
            ]
          },
          "metadata": {
            "tags": []
          },
          "execution_count": 21
        }
      ]
    },
    {
      "cell_type": "code",
      "metadata": {
        "id": "cY3q9qrZBmBa",
        "colab_type": "code",
        "colab": {}
      },
      "source": [
        "\n",
        "model = tf.keras.models.Sequential([\n",
        "  tf.keras.layers.Dense(32,input_dim=40,activation=\"relu\"),\n",
        "  tf.keras.layers.Dropout(0.1),\n",
        "#   tf.keras.layers.Dense(32, activation='relu'),\n",
        "#   tf.keras.layers.Dropout(0.3),\n",
        "#   tf.keras.layers.Dense(32, activation='relu'),\n",
        "#   tf.keras.layers.Dropout(0.3), \n",
        "#   tf.keras.layers.Dense(32, activation='relu'),\n",
        "#   tf.keras.layers.Dropout(0.3),     \n",
        "  tf.keras.layers.Dense(1)\n",
        "])\n"
      ],
      "execution_count": 12,
      "outputs": []
    },
    {
      "cell_type": "code",
      "metadata": {
        "id": "XPmHnkuEBmBd",
        "colab_type": "code",
        "colab": {
          "base_uri": "https://localhost:8080/",
          "height": 689
        },
        "outputId": "f7c1a481-e591-464c-dfec-e7b97893dea7"
      },
      "source": [
        "# 3. 모델 학습과정 설정하기\n",
        "model.compile(loss='mean_squared_error', optimizer='adagrad')\n",
        "\n",
        "# 4. 모델 학습시키기\n",
        "#hist = model.fit(x_train, y_train, epochs=20, batch_size=32, validation_data=(x_val, y_val))\n",
        "\n",
        "hist = model.fit(x_train, y_train, epochs=20, batch_size=32, validation_data=(x_val, y_val))"
      ],
      "execution_count": 22,
      "outputs": [
        {
          "output_type": "stream",
          "text": [
            "Epoch 1/20\n",
            "24/24 [==============================] - 0s 5ms/step - loss: 0.0204 - val_loss: 0.0037\n",
            "Epoch 2/20\n",
            "24/24 [==============================] - 0s 2ms/step - loss: 0.0192 - val_loss: 0.0037\n",
            "Epoch 3/20\n",
            "24/24 [==============================] - 0s 2ms/step - loss: 0.0203 - val_loss: 0.0035\n",
            "Epoch 4/20\n",
            "24/24 [==============================] - 0s 2ms/step - loss: 0.0190 - val_loss: 0.0034\n",
            "Epoch 5/20\n",
            "24/24 [==============================] - 0s 2ms/step - loss: 0.0214 - val_loss: 0.0033\n",
            "Epoch 6/20\n",
            "24/24 [==============================] - 0s 2ms/step - loss: 0.0203 - val_loss: 0.0034\n",
            "Epoch 7/20\n",
            "24/24 [==============================] - 0s 2ms/step - loss: 0.0213 - val_loss: 0.0032\n",
            "Epoch 8/20\n",
            "24/24 [==============================] - 0s 2ms/step - loss: 0.0217 - val_loss: 0.0031\n",
            "Epoch 9/20\n",
            "24/24 [==============================] - 0s 2ms/step - loss: 0.0165 - val_loss: 0.0031\n",
            "Epoch 10/20\n",
            "24/24 [==============================] - 0s 3ms/step - loss: 0.0182 - val_loss: 0.0030\n",
            "Epoch 11/20\n",
            "24/24 [==============================] - 0s 2ms/step - loss: 0.0169 - val_loss: 0.0030\n",
            "Epoch 12/20\n",
            "24/24 [==============================] - 0s 2ms/step - loss: 0.0160 - val_loss: 0.0030\n",
            "Epoch 13/20\n",
            "24/24 [==============================] - 0s 2ms/step - loss: 0.0157 - val_loss: 0.0029\n",
            "Epoch 14/20\n",
            "24/24 [==============================] - 0s 3ms/step - loss: 0.0181 - val_loss: 0.0030\n",
            "Epoch 15/20\n",
            "24/24 [==============================] - 0s 3ms/step - loss: 0.0164 - val_loss: 0.0029\n",
            "Epoch 16/20\n",
            "24/24 [==============================] - 0s 2ms/step - loss: 0.0162 - val_loss: 0.0028\n",
            "Epoch 17/20\n",
            "24/24 [==============================] - 0s 2ms/step - loss: 0.0175 - val_loss: 0.0028\n",
            "Epoch 18/20\n",
            "24/24 [==============================] - 0s 3ms/step - loss: 0.0164 - val_loss: 0.0028\n",
            "Epoch 19/20\n",
            "24/24 [==============================] - 0s 2ms/step - loss: 0.0158 - val_loss: 0.0027\n",
            "Epoch 20/20\n",
            "24/24 [==============================] - 0s 2ms/step - loss: 0.0141 - val_loss: 0.0026\n"
          ],
          "name": "stdout"
        }
      ]
    },
    {
      "cell_type": "code",
      "metadata": {
        "id": "8ucWPXvBBmBh",
        "colab_type": "code",
        "colab": {
          "base_uri": "https://localhost:8080/",
          "height": 67
        },
        "outputId": "26bab3b5-7ca0-4142-9ada-80699713a2be"
      },
      "source": [
        "# 6. 모델 평가하기\n",
        "trainScore = model.evaluate(x_train, y_train, verbose=0)\n",
        "print('Train Score: ', trainScore)\n",
        "valScore = model.evaluate(x_val, y_val, verbose=0)\n",
        "print('Validataion Score: ', valScore)\n",
        "testScore = model.evaluate(x_test, y_test, verbose=0)\n",
        "print('Test Score: ', testScore)\n"
      ],
      "execution_count": 23,
      "outputs": [
        {
          "output_type": "stream",
          "text": [
            "Train Score:  0.0025724079459905624\n",
            "Validataion Score:  0.0026469018775969744\n",
            "Test Score:  0.0026469018775969744\n"
          ],
          "name": "stdout"
        }
      ]
    },
    {
      "cell_type": "code",
      "metadata": {
        "id": "_Pxu22tvBmBk",
        "colab_type": "code",
        "colab": {
          "base_uri": "https://localhost:8080/",
          "height": 320
        },
        "outputId": "3c38fd07-9a1b-466a-a071-f20e42a43568"
      },
      "source": [
        "# 7. 모델 사용하기\n",
        "look_ahead = 250\n",
        "xhat = x_test[0, None]\n",
        "predictions = np.zeros((look_ahead,1))\n",
        "for i in range(look_ahead):\n",
        "    prediction = model.predict(xhat, batch_size=32)\n",
        "    predictions[i] = prediction\n",
        "    xhat = np.hstack([xhat[:,1:],prediction])\n",
        "    \n",
        "plt.figure(figsize=(12,5))\n",
        "plt.plot(np.arange(look_ahead),predictions,'r',label=\"prediction\")\n",
        "plt.plot(np.arange(look_ahead),y_test[:look_ahead],label=\"test function\")\n",
        "plt.legend()\n",
        "plt.show()"
      ],
      "execution_count": 24,
      "outputs": [
        {
          "output_type": "display_data",
          "data": {
            "image/png": "[encoded data removed]",
            "text/plain": [
              "<Figure size 864x360 with 1 Axes>"
            ]
          },
          "metadata": {
            "tags": [],
            "needs_background": "light"
          }
        }
      ]
    },
    {
      "cell_type": "markdown",
      "metadata": {
        "id": "7ejYQLT5BmBo",
        "colab_type": "text"
      },
      "source": [
        "# 순환신경망 모델"
      ]
    },
    {
      "cell_type": "code",
      "metadata": {
        "id": "2j_uu-OfBmBp",
        "colab_type": "code",
        "colab": {}
      },
      "source": [
        "# 데이터셋 생성\n",
        "x_train, y_train = create_dataset(train, look_back)\n",
        "x_val, y_val = create_dataset(val, look_back)\n",
        "x_test, y_test = create_dataset(test, look_back)\n",
        "\n",
        "# 데이터셋 전처리\n",
        "x_train = np.reshape(x_train, (x_train.shape[0], x_train.shape[1], 1))\n",
        "x_val = np.reshape(x_val, (x_val.shape[0], x_val.shape[1], 1))\n",
        "x_test = np.reshape(x_test, (x_test.shape[0], x_test.shape[1], 1))"
      ],
      "execution_count": 25,
      "outputs": []
    },
    {
      "cell_type": "code",
      "metadata": {
        "id": "XRJjQWq6BmBs",
        "colab_type": "code",
        "colab": {
          "base_uri": "https://localhost:8080/",
          "height": 34
        },
        "outputId": "c33c32b8-728e-41cb-c553-9e6c3155cd0a"
      },
      "source": [
        "x_train.shape"
      ],
      "execution_count": 26,
      "outputs": [
        {
          "output_type": "execute_result",
          "data": {
            "text/plain": [
              "(760, 40, 1)"
            ]
          },
          "metadata": {
            "tags": []
          },
          "execution_count": 26
        }
      ]
    },
    {
      "cell_type": "code",
      "metadata": {
        "id": "n3KFr2RkBmBx",
        "colab_type": "code",
        "colab": {
          "base_uri": "https://localhost:8080/",
          "height": 689
        },
        "outputId": "e0f9abdd-b663-4890-e35a-9ab6e26b7209"
      },
      "source": [
        "x_train[0]"
      ],
      "execution_count": 27,
      "outputs": [
        {
          "output_type": "execute_result",
          "data": {
            "text/plain": [
              "array([[1.        ],\n",
              "       [0.99901336],\n",
              "       [0.99605735],\n",
              "       [0.99114363],\n",
              "       [0.98429158],\n",
              "       [0.97552826],\n",
              "       [0.96488824],\n",
              "       [0.95241353],\n",
              "       [0.93815334],\n",
              "       [0.92216396],\n",
              "       [0.9045085 ],\n",
              "       [0.88525662],\n",
              "       [0.86448431],\n",
              "       [0.84227355],\n",
              "       [0.81871199],\n",
              "       [0.79389263],\n",
              "       [0.7679134 ],\n",
              "       [0.74087684],\n",
              "       [0.71288965],\n",
              "       [0.68406228],\n",
              "       [0.6545085 ],\n",
              "       [0.62434494],\n",
              "       [0.59369066],\n",
              "       [0.56266662],\n",
              "       [0.53139526],\n",
              "       [0.5       ],\n",
              "       [0.46860474],\n",
              "       [0.43733338],\n",
              "       [0.40630934],\n",
              "       [0.37565506],\n",
              "       [0.3454915 ],\n",
              "       [0.31593772],\n",
              "       [0.28711035],\n",
              "       [0.25912316],\n",
              "       [0.2320866 ],\n",
              "       [0.20610737],\n",
              "       [0.18128801],\n",
              "       [0.15772645],\n",
              "       [0.13551569],\n",
              "       [0.11474338]])"
            ]
          },
          "metadata": {
            "tags": []
          },
          "execution_count": 27
        }
      ]
    },
    {
      "cell_type": "code",
      "metadata": {
        "id": "OA-zcDyUBmB3",
        "colab_type": "code",
        "colab": {}
      },
      "source": [
        "\n",
        "\n",
        "model2 = tf.keras.models.Sequential([\n",
        "  tf.keras.layers.LSTM(32,input_shape=(None,1)),\n",
        "  tf.keras.layers.Dropout(0.3),   \n",
        "  tf.keras.layers.Dense(1)\n",
        "])"
      ],
      "execution_count": 28,
      "outputs": []
    },
    {
      "cell_type": "code",
      "metadata": {
        "id": "MYGjMJo2BmB8",
        "colab_type": "code",
        "colab": {
          "base_uri": "https://localhost:8080/",
          "height": 1000
        },
        "outputId": "70fdc3a7-5629-4006-ebc9-cde2af11d31c"
      },
      "source": [
        "model2.compile(loss='mean_squared_error', optimizer='adam')\n",
        "hist = model2.fit(x_train, y_train, epochs=200, batch_size=32, validation_data=(x_val, y_val))"
      ],
      "execution_count": 29,
      "outputs": [
        {
          "output_type": "stream",
          "text": [
            "Epoch 1/200\n",
            "24/24 [==============================] - 0s 17ms/step - loss: 0.0786 - val_loss: 0.0222\n",
            "Epoch 2/200\n",
            "24/24 [==============================] - 0s 5ms/step - loss: 0.0296 - val_loss: 0.0151\n",
            "Epoch 3/200\n",
            "24/24 [==============================] - 0s 5ms/step - loss: 0.0215 - val_loss: 0.0102\n",
            "Epoch 4/200\n",
            "24/24 [==============================] - 0s 5ms/step - loss: 0.0158 - val_loss: 0.0029\n",
            "Epoch 5/200\n",
            "24/24 [==============================] - 0s 5ms/step - loss: 0.0092 - val_loss: 3.9648e-04\n",
            "Epoch 6/200\n",
            "24/24 [==============================] - 0s 5ms/step - loss: 0.0074 - val_loss: 7.8131e-04\n",
            "Epoch 7/200\n",
            "24/24 [==============================] - 0s 5ms/step - loss: 0.0064 - val_loss: 3.1674e-04\n",
            "Epoch 8/200\n",
            "24/24 [==============================] - 0s 5ms/step - loss: 0.0067 - val_loss: 4.4957e-04\n",
            "Epoch 9/200\n",
            "24/24 [==============================] - 0s 5ms/step - loss: 0.0061 - val_loss: 2.6139e-04\n",
            "Epoch 10/200\n",
            "24/24 [==============================] - 0s 5ms/step - loss: 0.0060 - val_loss: 1.5771e-04\n",
            "Epoch 11/200\n",
            "24/24 [==============================] - 0s 6ms/step - loss: 0.0054 - val_loss: 2.5898e-04\n",
            "Epoch 12/200\n",
            "24/24 [==============================] - 0s 5ms/step - loss: 0.0062 - val_loss: 2.5086e-04\n",
            "Epoch 13/200\n",
            "24/24 [==============================] - 0s 5ms/step - loss: 0.0050 - val_loss: 9.6696e-05\n",
            "Epoch 14/200\n",
            "24/24 [==============================] - 0s 5ms/step - loss: 0.0055 - val_loss: 8.1728e-05\n",
            "Epoch 15/200\n",
            "24/24 [==============================] - 0s 5ms/step - loss: 0.0052 - val_loss: 6.4883e-05\n",
            "Epoch 16/200\n",
            "24/24 [==============================] - 0s 5ms/step - loss: 0.0061 - val_loss: 3.5619e-04\n",
            "Epoch 17/200\n",
            "24/24 [==============================] - 0s 5ms/step - loss: 0.0053 - val_loss: 1.0035e-04\n",
            "Epoch 18/200\n",
            "24/24 [==============================] - 0s 5ms/step - loss: 0.0049 - val_loss: 6.2189e-04\n",
            "Epoch 19/200\n",
            "24/24 [==============================] - 0s 5ms/step - loss: 0.0052 - val_loss: 2.3095e-04\n",
            "Epoch 20/200\n",
            "24/24 [==============================] - 0s 5ms/step - loss: 0.0042 - val_loss: 2.7046e-04\n",
            "Epoch 21/200\n",
            "24/24 [==============================] - 0s 5ms/step - loss: 0.0047 - val_loss: 3.9118e-04\n",
            "Epoch 22/200\n",
            "24/24 [==============================] - 0s 5ms/step - loss: 0.0044 - val_loss: 1.5742e-04\n",
            "Epoch 23/200\n",
            "24/24 [==============================] - 0s 5ms/step - loss: 0.0045 - val_loss: 4.0289e-04\n",
            "Epoch 24/200\n",
            "24/24 [==============================] - 0s 5ms/step - loss: 0.0043 - val_loss: 3.8606e-04\n",
            "Epoch 25/200\n",
            "24/24 [==============================] - 0s 5ms/step - loss: 0.0046 - val_loss: 6.7206e-05\n",
            "Epoch 26/200\n",
            "24/24 [==============================] - 0s 5ms/step - loss: 0.0050 - val_loss: 6.9881e-05\n",
            "Epoch 27/200\n",
            "24/24 [==============================] - 0s 5ms/step - loss: 0.0043 - val_loss: 1.7984e-04\n",
            "Epoch 28/200\n",
            "24/24 [==============================] - 0s 5ms/step - loss: 0.0042 - val_loss: 6.6767e-05\n",
            "Epoch 29/200\n",
            "24/24 [==============================] - 0s 5ms/step - loss: 0.0046 - val_loss: 8.2642e-05\n",
            "Epoch 30/200\n",
            "24/24 [==============================] - 0s 5ms/step - loss: 0.0049 - val_loss: 4.9168e-04\n",
            "Epoch 31/200\n",
            "24/24 [==============================] - 0s 5ms/step - loss: 0.0045 - val_loss: 3.0458e-04\n",
            "Epoch 32/200\n",
            "24/24 [==============================] - 0s 5ms/step - loss: 0.0041 - val_loss: 1.8864e-04\n",
            "Epoch 33/200\n",
            "24/24 [==============================] - 0s 5ms/step - loss: 0.0044 - val_loss: 2.7964e-04\n",
            "Epoch 34/200\n",
            "24/24 [==============================] - 0s 5ms/step - loss: 0.0044 - val_loss: 1.9310e-04\n",
            "Epoch 35/200\n",
            "24/24 [==============================] - 0s 5ms/step - loss: 0.0040 - val_loss: 3.5397e-04\n",
            "Epoch 36/200\n",
            "24/24 [==============================] - 0s 5ms/step - loss: 0.0040 - val_loss: 6.0336e-04\n",
            "Epoch 37/200\n",
            "24/24 [==============================] - 0s 5ms/step - loss: 0.0044 - val_loss: 3.2587e-04\n",
            "Epoch 38/200\n",
            "24/24 [==============================] - 0s 5ms/step - loss: 0.0037 - val_loss: 9.9255e-05\n",
            "Epoch 39/200\n",
            "24/24 [==============================] - 0s 5ms/step - loss: 0.0044 - val_loss: 8.6282e-04\n",
            "Epoch 40/200\n",
            "24/24 [==============================] - 0s 5ms/step - loss: 0.0036 - val_loss: 9.9215e-05\n",
            "Epoch 41/200\n",
            "24/24 [==============================] - 0s 5ms/step - loss: 0.0040 - val_loss: 1.2755e-04\n",
            "Epoch 42/200\n",
            "24/24 [==============================] - 0s 5ms/step - loss: 0.0031 - val_loss: 7.5734e-05\n",
            "Epoch 43/200\n",
            "24/24 [==============================] - 0s 5ms/step - loss: 0.0038 - val_loss: 6.7502e-04\n",
            "Epoch 44/200\n",
            "24/24 [==============================] - 0s 5ms/step - loss: 0.0044 - val_loss: 0.0015\n",
            "Epoch 45/200\n",
            "24/24 [==============================] - 0s 5ms/step - loss: 0.0043 - val_loss: 2.3420e-04\n",
            "Epoch 46/200\n",
            "24/24 [==============================] - 0s 5ms/step - loss: 0.0037 - val_loss: 8.8646e-05\n",
            "Epoch 47/200\n",
            "24/24 [==============================] - 0s 5ms/step - loss: 0.0035 - val_loss: 5.3352e-05\n",
            "Epoch 48/200\n",
            "24/24 [==============================] - 0s 5ms/step - loss: 0.0034 - val_loss: 3.1805e-04\n",
            "Epoch 49/200\n",
            "24/24 [==============================] - 0s 5ms/step - loss: 0.0034 - val_loss: 1.4212e-04\n",
            "Epoch 50/200\n",
            "24/24 [==============================] - 0s 5ms/step - loss: 0.0034 - val_loss: 3.8986e-05\n",
            "Epoch 51/200\n",
            "24/24 [==============================] - 0s 5ms/step - loss: 0.0037 - val_loss: 7.4101e-05\n",
            "Epoch 52/200\n",
            "24/24 [==============================] - 0s 6ms/step - loss: 0.0033 - val_loss: 5.0148e-05\n",
            "Epoch 53/200\n",
            "24/24 [==============================] - 0s 5ms/step - loss: 0.0033 - val_loss: 7.0126e-05\n",
            "Epoch 54/200\n",
            "24/24 [==============================] - 0s 5ms/step - loss: 0.0037 - val_loss: 5.1471e-04\n",
            "Epoch 55/200\n",
            "24/24 [==============================] - 0s 5ms/step - loss: 0.0032 - val_loss: 9.1723e-05\n",
            "Epoch 56/200\n",
            "24/24 [==============================] - 0s 5ms/step - loss: 0.0038 - val_loss: 2.5154e-04\n",
            "Epoch 57/200\n",
            "24/24 [==============================] - 0s 5ms/step - loss: 0.0030 - val_loss: 4.3514e-04\n",
            "Epoch 58/200\n",
            "24/24 [==============================] - 0s 5ms/step - loss: 0.0035 - val_loss: 3.5464e-05\n",
            "Epoch 59/200\n",
            "24/24 [==============================] - 0s 5ms/step - loss: 0.0033 - val_loss: 8.5551e-05\n",
            "Epoch 60/200\n",
            "24/24 [==============================] - 0s 5ms/step - loss: 0.0034 - val_loss: 7.5612e-05\n",
            "Epoch 61/200\n",
            "24/24 [==============================] - 0s 5ms/step - loss: 0.0034 - val_loss: 1.2791e-04\n",
            "Epoch 62/200\n",
            "24/24 [==============================] - 0s 5ms/step - loss: 0.0030 - val_loss: 1.0506e-04\n",
            "Epoch 63/200\n",
            "24/24 [==============================] - 0s 5ms/step - loss: 0.0032 - val_loss: 2.9651e-04\n",
            "Epoch 64/200\n",
            "24/24 [==============================] - 0s 5ms/step - loss: 0.0034 - val_loss: 1.7854e-04\n",
            "Epoch 65/200\n",
            "24/24 [==============================] - 0s 5ms/step - loss: 0.0030 - val_loss: 5.2870e-04\n",
            "Epoch 66/200\n",
            "24/24 [==============================] - 0s 6ms/step - loss: 0.0037 - val_loss: 7.9740e-04\n",
            "Epoch 67/200\n",
            "24/24 [==============================] - 0s 5ms/step - loss: 0.0034 - val_loss: 7.0319e-04\n",
            "Epoch 68/200\n",
            "24/24 [==============================] - 0s 5ms/step - loss: 0.0033 - val_loss: 7.4389e-05\n",
            "Epoch 69/200\n",
            "24/24 [==============================] - 0s 5ms/step - loss: 0.0026 - val_loss: 6.9268e-05\n",
            "Epoch 70/200\n",
            "24/24 [==============================] - 0s 5ms/step - loss: 0.0025 - val_loss: 2.6903e-04\n",
            "Epoch 71/200\n",
            "24/24 [==============================] - 0s 5ms/step - loss: 0.0026 - val_loss: 0.0012\n",
            "Epoch 72/200\n",
            "24/24 [==============================] - 0s 5ms/step - loss: 0.0028 - val_loss: 2.8491e-04\n",
            "Epoch 73/200\n",
            "24/24 [==============================] - 0s 5ms/step - loss: 0.0029 - val_loss: 4.7257e-05\n",
            "Epoch 74/200\n",
            "24/24 [==============================] - 0s 5ms/step - loss: 0.0027 - val_loss: 1.2086e-04\n",
            "Epoch 75/200\n",
            "24/24 [==============================] - 0s 5ms/step - loss: 0.0026 - val_loss: 3.7667e-05\n",
            "Epoch 76/200\n",
            "24/24 [==============================] - 0s 6ms/step - loss: 0.0026 - val_loss: 7.1175e-05\n",
            "Epoch 77/200\n",
            "24/24 [==============================] - 0s 5ms/step - loss: 0.0028 - val_loss: 9.5857e-05\n",
            "Epoch 78/200\n",
            "24/24 [==============================] - 0s 5ms/step - loss: 0.0031 - val_loss: 6.1213e-05\n",
            "Epoch 79/200\n",
            "24/24 [==============================] - 0s 5ms/step - loss: 0.0028 - val_loss: 2.3542e-04\n",
            "Epoch 80/200\n",
            "24/24 [==============================] - 0s 5ms/step - loss: 0.0030 - val_loss: 1.0219e-04\n",
            "Epoch 81/200\n",
            "24/24 [==============================] - 0s 5ms/step - loss: 0.0030 - val_loss: 1.3009e-04\n",
            "Epoch 82/200\n",
            "24/24 [==============================] - 0s 5ms/step - loss: 0.0026 - val_loss: 2.6331e-05\n",
            "Epoch 83/200\n",
            "24/24 [==============================] - 0s 5ms/step - loss: 0.0027 - val_loss: 3.4483e-05\n",
            "Epoch 84/200\n",
            "24/24 [==============================] - 0s 5ms/step - loss: 0.0024 - val_loss: 1.7550e-04\n",
            "Epoch 85/200\n",
            "24/24 [==============================] - 0s 5ms/step - loss: 0.0025 - val_loss: 4.4890e-05\n",
            "Epoch 86/200\n",
            "24/24 [==============================] - 0s 5ms/step - loss: 0.0023 - val_loss: 4.1659e-04\n",
            "Epoch 87/200\n",
            "24/24 [==============================] - 0s 5ms/step - loss: 0.0025 - val_loss: 6.6144e-05\n",
            "Epoch 88/200\n",
            "24/24 [==============================] - 0s 5ms/step - loss: 0.0024 - val_loss: 8.4583e-05\n",
            "Epoch 89/200\n",
            "24/24 [==============================] - 0s 5ms/step - loss: 0.0024 - val_loss: 5.5795e-04\n",
            "Epoch 90/200\n",
            "24/24 [==============================] - 0s 5ms/step - loss: 0.0026 - val_loss: 4.1092e-05\n",
            "Epoch 91/200\n",
            "24/24 [==============================] - 0s 5ms/step - loss: 0.0022 - val_loss: 1.0350e-04\n",
            "Epoch 92/200\n",
            "24/24 [==============================] - 0s 5ms/step - loss: 0.0022 - val_loss: 2.7391e-05\n",
            "Epoch 93/200\n",
            "24/24 [==============================] - 0s 5ms/step - loss: 0.0023 - val_loss: 8.1898e-04\n",
            "Epoch 94/200\n",
            "24/24 [==============================] - 0s 5ms/step - loss: 0.0025 - val_loss: 6.9806e-05\n",
            "Epoch 95/200\n",
            "24/24 [==============================] - 0s 5ms/step - loss: 0.0022 - val_loss: 9.4513e-04\n",
            "Epoch 96/200\n",
            "24/24 [==============================] - 0s 5ms/step - loss: 0.0025 - val_loss: 9.1869e-05\n",
            "Epoch 97/200\n",
            "24/24 [==============================] - 0s 5ms/step - loss: 0.0026 - val_loss: 4.0656e-05\n",
            "Epoch 98/200\n",
            "24/24 [==============================] - 0s 6ms/step - loss: 0.0021 - val_loss: 8.1782e-05\n",
            "Epoch 99/200\n",
            "24/24 [==============================] - 0s 5ms/step - loss: 0.0024 - val_loss: 3.0868e-04\n",
            "Epoch 100/200\n",
            "24/24 [==============================] - 0s 5ms/step - loss: 0.0022 - val_loss: 1.3116e-04\n",
            "Epoch 101/200\n",
            "24/24 [==============================] - 0s 5ms/step - loss: 0.0025 - val_loss: 3.5482e-05\n",
            "Epoch 102/200\n",
            "24/24 [==============================] - 0s 5ms/step - loss: 0.0022 - val_loss: 2.5896e-05\n",
            "Epoch 103/200\n",
            "24/24 [==============================] - 0s 5ms/step - loss: 0.0023 - val_loss: 1.4386e-04\n",
            "Epoch 104/200\n",
            "24/24 [==============================] - 0s 5ms/step - loss: 0.0023 - val_loss: 8.2478e-05\n",
            "Epoch 105/200\n",
            "24/24 [==============================] - 0s 5ms/step - loss: 0.0023 - val_loss: 5.8198e-05\n",
            "Epoch 106/200\n",
            "24/24 [==============================] - 0s 6ms/step - loss: 0.0022 - val_loss: 7.0946e-05\n",
            "Epoch 107/200\n",
            "24/24 [==============================] - 0s 5ms/step - loss: 0.0021 - val_loss: 2.1758e-04\n",
            "Epoch 108/200\n",
            "24/24 [==============================] - 0s 5ms/step - loss: 0.0021 - val_loss: 1.0774e-04\n",
            "Epoch 109/200\n",
            "24/24 [==============================] - 0s 5ms/step - loss: 0.0020 - val_loss: 1.7672e-05\n",
            "Epoch 110/200\n",
            "24/24 [==============================] - 0s 5ms/step - loss: 0.0020 - val_loss: 6.3055e-05\n",
            "Epoch 111/200\n",
            "24/24 [==============================] - 0s 5ms/step - loss: 0.0023 - val_loss: 3.0063e-04\n",
            "Epoch 112/200\n",
            "24/24 [==============================] - 0s 5ms/step - loss: 0.0022 - val_loss: 2.7740e-04\n",
            "Epoch 113/200\n",
            "24/24 [==============================] - 0s 5ms/step - loss: 0.0022 - val_loss: 8.3366e-05\n",
            "Epoch 114/200\n",
            "24/24 [==============================] - 0s 5ms/step - loss: 0.0020 - val_loss: 3.3573e-05\n",
            "Epoch 115/200\n",
            "24/24 [==============================] - 0s 5ms/step - loss: 0.0020 - val_loss: 7.5456e-05\n",
            "Epoch 116/200\n",
            "24/24 [==============================] - 0s 5ms/step - loss: 0.0021 - val_loss: 3.9269e-05\n",
            "Epoch 117/200\n",
            "24/24 [==============================] - 0s 5ms/step - loss: 0.0023 - val_loss: 1.1773e-04\n",
            "Epoch 118/200\n",
            "24/24 [==============================] - 0s 5ms/step - loss: 0.0018 - val_loss: 3.2034e-05\n",
            "Epoch 119/200\n",
            "24/24 [==============================] - 0s 5ms/step - loss: 0.0020 - val_loss: 1.7849e-04\n",
            "Epoch 120/200\n",
            "24/24 [==============================] - 0s 5ms/step - loss: 0.0021 - val_loss: 1.3489e-04\n",
            "Epoch 121/200\n",
            "24/24 [==============================] - 0s 5ms/step - loss: 0.0022 - val_loss: 9.6810e-05\n",
            "Epoch 122/200\n",
            "24/24 [==============================] - 0s 5ms/step - loss: 0.0020 - val_loss: 1.2969e-04\n",
            "Epoch 123/200\n",
            "24/24 [==============================] - 0s 5ms/step - loss: 0.0021 - val_loss: 3.6210e-05\n",
            "Epoch 124/200\n",
            "24/24 [==============================] - 0s 5ms/step - loss: 0.0021 - val_loss: 2.6893e-04\n",
            "Epoch 125/200\n",
            "24/24 [==============================] - 0s 5ms/step - loss: 0.0019 - val_loss: 1.3919e-04\n",
            "Epoch 126/200\n",
            "24/24 [==============================] - 0s 5ms/step - loss: 0.0021 - val_loss: 4.8823e-05\n",
            "Epoch 127/200\n",
            "24/24 [==============================] - 0s 5ms/step - loss: 0.0022 - val_loss: 7.1227e-05\n",
            "Epoch 128/200\n",
            "24/24 [==============================] - 0s 5ms/step - loss: 0.0021 - val_loss: 1.5329e-05\n",
            "Epoch 129/200\n",
            "24/24 [==============================] - 0s 5ms/step - loss: 0.0020 - val_loss: 1.7625e-04\n",
            "Epoch 130/200\n",
            "24/24 [==============================] - 0s 5ms/step - loss: 0.0017 - val_loss: 2.0137e-05\n",
            "Epoch 131/200\n",
            "24/24 [==============================] - 0s 5ms/step - loss: 0.0020 - val_loss: 2.0301e-04\n",
            "Epoch 132/200\n",
            "24/24 [==============================] - 0s 5ms/step - loss: 0.0019 - val_loss: 6.0096e-05\n",
            "Epoch 133/200\n",
            "24/24 [==============================] - 0s 5ms/step - loss: 0.0021 - val_loss: 6.8904e-05\n",
            "Epoch 134/200\n",
            "24/24 [==============================] - 0s 5ms/step - loss: 0.0019 - val_loss: 2.3576e-04\n",
            "Epoch 135/200\n",
            "24/24 [==============================] - 0s 5ms/step - loss: 0.0019 - val_loss: 1.9414e-04\n",
            "Epoch 136/200\n",
            "24/24 [==============================] - 0s 5ms/step - loss: 0.0018 - val_loss: 1.1151e-05\n",
            "Epoch 137/200\n",
            "24/24 [==============================] - 0s 5ms/step - loss: 0.0020 - val_loss: 1.3463e-04\n",
            "Epoch 138/200\n",
            "24/24 [==============================] - 0s 5ms/step - loss: 0.0019 - val_loss: 1.7383e-04\n",
            "Epoch 139/200\n",
            "24/24 [==============================] - 0s 5ms/step - loss: 0.0020 - val_loss: 4.7781e-05\n",
            "Epoch 140/200\n",
            "24/24 [==============================] - 0s 5ms/step - loss: 0.0020 - val_loss: 1.6539e-04\n",
            "Epoch 141/200\n",
            "24/24 [==============================] - 0s 5ms/step - loss: 0.0020 - val_loss: 3.7507e-05\n",
            "Epoch 142/200\n",
            "24/24 [==============================] - 0s 5ms/step - loss: 0.0017 - val_loss: 8.1749e-05\n",
            "Epoch 143/200\n",
            "24/24 [==============================] - 0s 5ms/step - loss: 0.0022 - val_loss: 7.8098e-05\n",
            "Epoch 144/200\n",
            "24/24 [==============================] - 0s 5ms/step - loss: 0.0020 - val_loss: 2.3695e-04\n",
            "Epoch 145/200\n",
            "24/24 [==============================] - 0s 5ms/step - loss: 0.0018 - val_loss: 3.2889e-05\n",
            "Epoch 146/200\n",
            "24/24 [==============================] - 0s 5ms/step - loss: 0.0018 - val_loss: 1.0281e-04\n",
            "Epoch 147/200\n",
            "24/24 [==============================] - 0s 5ms/step - loss: 0.0019 - val_loss: 7.8626e-05\n",
            "Epoch 148/200\n",
            "24/24 [==============================] - 0s 5ms/step - loss: 0.0020 - val_loss: 1.1946e-04\n",
            "Epoch 149/200\n",
            "24/24 [==============================] - 0s 5ms/step - loss: 0.0021 - val_loss: 3.6576e-05\n",
            "Epoch 150/200\n",
            "24/24 [==============================] - 0s 5ms/step - loss: 0.0020 - val_loss: 4.7730e-04\n",
            "Epoch 151/200\n",
            "24/24 [==============================] - 0s 5ms/step - loss: 0.0021 - val_loss: 4.9629e-05\n",
            "Epoch 152/200\n",
            "24/24 [==============================] - 0s 5ms/step - loss: 0.0020 - val_loss: 2.8722e-05\n",
            "Epoch 153/200\n",
            "24/24 [==============================] - 0s 5ms/step - loss: 0.0020 - val_loss: 4.1302e-05\n",
            "Epoch 154/200\n",
            "24/24 [==============================] - 0s 5ms/step - loss: 0.0019 - val_loss: 9.8183e-05\n",
            "Epoch 155/200\n",
            "24/24 [==============================] - 0s 5ms/step - loss: 0.0019 - val_loss: 1.8490e-04\n",
            "Epoch 156/200\n",
            "24/24 [==============================] - 0s 5ms/step - loss: 0.0018 - val_loss: 7.4256e-05\n",
            "Epoch 157/200\n",
            "24/24 [==============================] - 0s 5ms/step - loss: 0.0020 - val_loss: 7.9642e-05\n",
            "Epoch 158/200\n",
            "24/24 [==============================] - 0s 5ms/step - loss: 0.0018 - val_loss: 2.3726e-04\n",
            "Epoch 159/200\n",
            "24/24 [==============================] - 0s 5ms/step - loss: 0.0020 - val_loss: 3.7111e-04\n",
            "Epoch 160/200\n",
            "24/24 [==============================] - 0s 5ms/step - loss: 0.0019 - val_loss: 7.0678e-05\n",
            "Epoch 161/200\n",
            "24/24 [==============================] - 0s 5ms/step - loss: 0.0020 - val_loss: 2.9551e-04\n",
            "Epoch 162/200\n",
            "24/24 [==============================] - 0s 5ms/step - loss: 0.0018 - val_loss: 5.6347e-05\n",
            "Epoch 163/200\n",
            "24/24 [==============================] - 0s 5ms/step - loss: 0.0020 - val_loss: 8.2679e-04\n",
            "Epoch 164/200\n",
            "24/24 [==============================] - 0s 5ms/step - loss: 0.0021 - val_loss: 3.1527e-05\n",
            "Epoch 165/200\n",
            "24/24 [==============================] - 0s 5ms/step - loss: 0.0019 - val_loss: 4.0245e-04\n",
            "Epoch 166/200\n",
            "24/24 [==============================] - 0s 5ms/step - loss: 0.0018 - val_loss: 1.1770e-04\n",
            "Epoch 167/200\n",
            "24/24 [==============================] - 0s 5ms/step - loss: 0.0020 - val_loss: 1.5830e-04\n",
            "Epoch 168/200\n",
            "24/24 [==============================] - 0s 5ms/step - loss: 0.0017 - val_loss: 5.9748e-05\n",
            "Epoch 169/200\n",
            "24/24 [==============================] - 0s 6ms/step - loss: 0.0017 - val_loss: 2.0526e-05\n",
            "Epoch 170/200\n",
            "24/24 [==============================] - 0s 5ms/step - loss: 0.0016 - val_loss: 1.3948e-04\n",
            "Epoch 171/200\n",
            "24/24 [==============================] - 0s 5ms/step - loss: 0.0020 - val_loss: 7.6622e-05\n",
            "Epoch 172/200\n",
            "24/24 [==============================] - 0s 5ms/step - loss: 0.0018 - val_loss: 3.7965e-04\n",
            "Epoch 173/200\n",
            "24/24 [==============================] - 0s 5ms/step - loss: 0.0019 - val_loss: 1.8821e-05\n",
            "Epoch 174/200\n",
            "24/24 [==============================] - 0s 5ms/step - loss: 0.0019 - val_loss: 5.0789e-05\n",
            "Epoch 175/200\n",
            "24/24 [==============================] - 0s 5ms/step - loss: 0.0018 - val_loss: 3.9553e-04\n",
            "Epoch 176/200\n",
            "24/24 [==============================] - 0s 5ms/step - loss: 0.0019 - val_loss: 1.1458e-04\n",
            "Epoch 177/200\n",
            "24/24 [==============================] - 0s 5ms/step - loss: 0.0019 - val_loss: 3.8617e-05\n",
            "Epoch 178/200\n",
            "24/24 [==============================] - 0s 5ms/step - loss: 0.0021 - val_loss: 2.7711e-05\n",
            "Epoch 179/200\n",
            "24/24 [==============================] - 0s 5ms/step - loss: 0.0020 - val_loss: 1.5450e-04\n",
            "Epoch 180/200\n",
            "24/24 [==============================] - 0s 5ms/step - loss: 0.0020 - val_loss: 3.1733e-05\n",
            "Epoch 181/200\n",
            "24/24 [==============================] - 0s 5ms/step - loss: 0.0018 - val_loss: 1.5427e-04\n",
            "Epoch 182/200\n",
            "24/24 [==============================] - 0s 5ms/step - loss: 0.0021 - val_loss: 2.0888e-05\n",
            "Epoch 183/200\n",
            "24/24 [==============================] - 0s 5ms/step - loss: 0.0019 - val_loss: 6.4211e-04\n",
            "Epoch 184/200\n",
            "24/24 [==============================] - 0s 5ms/step - loss: 0.0020 - val_loss: 1.5867e-04\n",
            "Epoch 185/200\n",
            "24/24 [==============================] - 0s 5ms/step - loss: 0.0020 - val_loss: 1.1993e-04\n",
            "Epoch 186/200\n",
            "24/24 [==============================] - 0s 5ms/step - loss: 0.0021 - val_loss: 1.7887e-04\n",
            "Epoch 187/200\n",
            "24/24 [==============================] - 0s 5ms/step - loss: 0.0022 - val_loss: 6.2898e-05\n",
            "Epoch 188/200\n",
            "24/24 [==============================] - 0s 5ms/step - loss: 0.0019 - val_loss: 1.6453e-04\n",
            "Epoch 189/200\n",
            "24/24 [==============================] - 0s 5ms/step - loss: 0.0019 - val_loss: 8.4245e-05\n",
            "Epoch 190/200\n",
            "24/24 [==============================] - 0s 5ms/step - loss: 0.0018 - val_loss: 7.9456e-05\n",
            "Epoch 191/200\n",
            "24/24 [==============================] - 0s 5ms/step - loss: 0.0017 - val_loss: 2.1410e-04\n",
            "Epoch 192/200\n",
            "24/24 [==============================] - 0s 5ms/step - loss: 0.0021 - val_loss: 5.6499e-05\n",
            "Epoch 193/200\n",
            "24/24 [==============================] - 0s 5ms/step - loss: 0.0018 - val_loss: 2.0167e-04\n",
            "Epoch 194/200\n",
            "24/24 [==============================] - 0s 5ms/step - loss: 0.0020 - val_loss: 3.4698e-05\n",
            "Epoch 195/200\n",
            "24/24 [==============================] - 0s 5ms/step - loss: 0.0021 - val_loss: 1.0122e-04\n",
            "Epoch 196/200\n",
            "24/24 [==============================] - 0s 5ms/step - loss: 0.0020 - val_loss: 2.5057e-05\n",
            "Epoch 197/200\n",
            "24/24 [==============================] - 0s 5ms/step - loss: 0.0019 - val_loss: 1.6290e-04\n",
            "Epoch 198/200\n",
            "24/24 [==============================] - 0s 5ms/step - loss: 0.0021 - val_loss: 5.5246e-05\n",
            "Epoch 199/200\n",
            "24/24 [==============================] - 0s 5ms/step - loss: 0.0018 - val_loss: 4.6076e-05\n",
            "Epoch 200/200\n",
            "24/24 [==============================] - 0s 5ms/step - loss: 0.0017 - val_loss: 1.0008e-04\n"
          ],
          "name": "stdout"
        }
      ]
    },
    {
      "cell_type": "code",
      "metadata": {
        "id": "Vi25M6VZBmCB",
        "colab_type": "code",
        "colab": {
          "base_uri": "https://localhost:8080/",
          "height": 633
        },
        "outputId": "8596606d-8934-4659-d1df-8cc8301895ca"
      },
      "source": [
        "# 5. 학습과정 살펴보기\n",
        "plt.plot(hist.history['loss'])\n",
        "plt.plot(hist.history['val_loss'])\n",
        "plt.ylim(0.0, 0.15)\n",
        "plt.ylabel('loss')\n",
        "plt.xlabel('epoch')\n",
        "plt.legend(['train', 'val'], loc='upper left')\n",
        "plt.show()\n",
        "\n",
        "# 6. 모델 평가하기\n",
        "trainScore = model2.evaluate(x_train, y_train, verbose=0)\n",
        "model2.reset_states()\n",
        "print('Train Score: ', trainScore)\n",
        "valScore = model2.evaluate(x_val, y_val, verbose=0)\n",
        "model2.reset_states()\n",
        "print('Validataion Score: ', valScore)\n",
        "testScore = model2.evaluate(x_test, y_test, verbose=0)\n",
        "model2.reset_states()\n",
        "print('Test Score: ', testScore)\n",
        "\n",
        "# 7. 모델 사용하기\n",
        "look_ahead = 250\n",
        "xhat = x_test[0]\n",
        "predictions = np.zeros((look_ahead,1))\n",
        "for i in range(look_ahead):\n",
        "    prediction = model2.predict(np.array([xhat]), batch_size=1)\n",
        "    predictions[i] = prediction\n",
        "    xhat = np.vstack([xhat[1:],prediction])\n",
        "    \n",
        "plt.figure(figsize=(12,5))\n",
        "plt.plot(np.arange(look_ahead),predictions,'r',label=\"prediction\")\n",
        "plt.plot(np.arange(look_ahead),y_test[:look_ahead],label=\"test function\")\n",
        "plt.legend()\n",
        "plt.show()"
      ],
      "execution_count": 30,
      "outputs": [
        {
          "output_type": "display_data",
          "data": {
            "image/png": "[encoded data removed]",
            "text/plain": [
              "<Figure size 432x288 with 1 Axes>"
            ]
          },
          "metadata": {
            "tags": [],
            "needs_background": "light"
          }
        },
        {
          "output_type": "stream",
          "text": [
            "Train Score:  0.00010346267663408071\n",
            "Validataion Score:  0.00010008394747273996\n",
            "Test Score:  0.00010008394747273996\n"
          ],
          "name": "stdout"
        },
        {
          "output_type": "display_data",
          "data": {
            "image/png": "[encoded data removed]",
            "text/plain": [
              "<Figure size 864x360 with 1 Axes>"
            ]
          },
          "metadata": {
            "tags": [],
            "needs_background": "light"
          }
        }
      ]
    },
    {
      "cell_type": "code",
      "metadata": {
        "id": "9bso_UH2BmCH",
        "colab_type": "code",
        "colab": {
          "base_uri": "https://localhost:8080/",
          "height": 34
        },
        "outputId": "97fd316e-eca1-4579-b35f-685d37a9c3b8"
      },
      "source": [
        "predictions[0]"
      ],
      "execution_count": 31,
      "outputs": [
        {
          "output_type": "execute_result",
          "data": {
            "text/plain": [
              "array([0.10943863])"
            ]
          },
          "metadata": {
            "tags": []
          },
          "execution_count": 31
        }
      ]
    },
    {
      "cell_type": "markdown",
      "metadata": {
        "id": "2vp2EUf6BmCN",
        "colab_type": "text"
      },
      "source": [
        "# 상태유지 순환신경망 모델\n"
      ]
    },
    {
      "cell_type": "code",
      "metadata": {
        "id": "ZFZqi3xWBmCO",
        "colab_type": "code",
        "colab": {}
      },
      "source": [
        "class CustomHistory(tf.keras.callbacks.Callback):\n",
        "    def init(self):\n",
        "        self.train_loss = []\n",
        "        self.val_loss = []\n",
        "        \n",
        "    def on_epoch_end(self, batch, logs={}):\n",
        "        self.train_loss.append(logs.get('loss'))\n",
        "        self.val_loss.append(logs.get('val_loss'))"
      ],
      "execution_count": 32,
      "outputs": []
    },
    {
      "cell_type": "code",
      "metadata": {
        "id": "lpddY_GBBmCT",
        "colab_type": "code",
        "colab": {}
      },
      "source": [
        "\n",
        "model3 = tf.keras.models.Sequential([\n",
        "  tf.keras.layers.LSTM(32, batch_input_shape=(1, look_back, 1), stateful=True),\n",
        "  tf.keras.layers.Dropout(0.3),   \n",
        "  tf.keras.layers.Dense(1)\n",
        "])\n",
        "\n",
        "model3.compile(loss='mean_squared_error', optimizer='adam')"
      ],
      "execution_count": 33,
      "outputs": []
    },
    {
      "cell_type": "code",
      "metadata": {
        "id": "i3kwwTImBmCc",
        "colab_type": "code",
        "colab": {}
      },
      "source": [
        "# 4. 모델 학습시키기\n",
        "custom_hist = CustomHistory()\n",
        "custom_hist.init()\n"
      ],
      "execution_count": 34,
      "outputs": []
    },
    {
      "cell_type": "code",
      "metadata": {
        "id": "R12m84RJBmCh",
        "colab_type": "code",
        "colab": {
          "base_uri": "https://localhost:8080/",
          "height": 1000
        },
        "outputId": "0926df07-35a1-4d90-81db-0faea39ea976"
      },
      "source": [
        "for i in range(200):\n",
        "    model3.fit(x_train, y_train, epochs=1, batch_size=1, shuffle=False, callbacks=[custom_hist], validation_data=(x_val, y_val))\n",
        "    model3.reset_states()\n"
      ],
      "execution_count": 35,
      "outputs": [
        {
          "output_type": "stream",
          "text": [
            "760/760 [==============================] - 3s 4ms/step - loss: 0.0252 - val_loss: 0.0232\n",
            "760/760 [==============================] - 3s 4ms/step - loss: 0.0091 - val_loss: 3.8176e-04\n",
            "760/760 [==============================] - 3s 4ms/step - loss: 0.0061 - val_loss: 5.2462e-04\n",
            "760/760 [==============================] - 3s 4ms/step - loss: 0.0056 - val_loss: 0.0022\n",
            "760/760 [==============================] - 3s 4ms/step - loss: 0.0052 - val_loss: 0.0051\n",
            "760/760 [==============================] - 3s 4ms/step - loss: 0.0053 - val_loss: 0.0059\n",
            "760/760 [==============================] - 3s 4ms/step - loss: 0.0055 - val_loss: 8.3397e-04\n",
            "760/760 [==============================] - 3s 4ms/step - loss: 0.0034 - val_loss: 0.0063\n",
            "760/760 [==============================] - 3s 4ms/step - loss: 0.0031 - val_loss: 0.0047\n",
            "760/760 [==============================] - 3s 4ms/step - loss: 0.0036 - val_loss: 0.0065\n",
            "760/760 [==============================] - 3s 4ms/step - loss: 0.0032 - val_loss: 0.0015\n",
            "760/760 [==============================] - 3s 4ms/step - loss: 0.0032 - val_loss: 0.0096\n",
            "760/760 [==============================] - 3s 4ms/step - loss: 0.0031 - val_loss: 0.0023\n",
            "760/760 [==============================] - 3s 4ms/step - loss: 0.0032 - val_loss: 0.0068\n",
            "760/760 [==============================] - 3s 4ms/step - loss: 0.0036 - val_loss: 0.0012\n",
            "760/760 [==============================] - 3s 4ms/step - loss: 0.0029 - val_loss: 9.5482e-04\n",
            "760/760 [==============================] - 3s 4ms/step - loss: 0.0027 - val_loss: 0.0016\n",
            "760/760 [==============================] - 3s 4ms/step - loss: 0.0032 - val_loss: 0.0047\n",
            "760/760 [==============================] - 3s 4ms/step - loss: 0.0038 - val_loss: 0.0021\n",
            "760/760 [==============================] - 3s 4ms/step - loss: 0.0030 - val_loss: 0.0019\n",
            "760/760 [==============================] - 3s 4ms/step - loss: 0.0024 - val_loss: 0.0035\n",
            "760/760 [==============================] - 3s 4ms/step - loss: 0.0027 - val_loss: 0.0035\n",
            "760/760 [==============================] - 3s 4ms/step - loss: 0.0041 - val_loss: 8.2498e-04\n",
            "760/760 [==============================] - 3s 4ms/step - loss: 0.0028 - val_loss: 5.8759e-04\n",
            "760/760 [==============================] - 3s 4ms/step - loss: 0.0029 - val_loss: 0.0018\n",
            "760/760 [==============================] - 3s 4ms/step - loss: 0.0031 - val_loss: 0.0031\n",
            "760/760 [==============================] - 3s 4ms/step - loss: 0.0026 - val_loss: 0.0041\n",
            "760/760 [==============================] - 3s 4ms/step - loss: 0.0032 - val_loss: 0.0031\n",
            "760/760 [==============================] - 3s 4ms/step - loss: 0.0031 - val_loss: 0.0028\n",
            "760/760 [==============================] - 3s 4ms/step - loss: 0.0033 - val_loss: 0.0102\n",
            "760/760 [==============================] - 3s 4ms/step - loss: 0.0044 - val_loss: 6.4578e-04\n",
            "760/760 [==============================] - 3s 4ms/step - loss: 0.0029 - val_loss: 0.0039\n",
            "760/760 [==============================] - 3s 4ms/step - loss: 0.0027 - val_loss: 8.3389e-04\n",
            "760/760 [==============================] - 3s 4ms/step - loss: 0.0024 - val_loss: 0.0032\n",
            "760/760 [==============================] - 3s 4ms/step - loss: 0.0025 - val_loss: 4.3608e-04\n",
            "760/760 [==============================] - 3s 4ms/step - loss: 0.0026 - val_loss: 0.0034\n",
            "760/760 [==============================] - 3s 4ms/step - loss: 0.0028 - val_loss: 0.0012\n",
            "760/760 [==============================] - 3s 4ms/step - loss: 0.0031 - val_loss: 0.0025\n",
            "760/760 [==============================] - 3s 4ms/step - loss: 0.0033 - val_loss: 6.8169e-04\n",
            "760/760 [==============================] - 3s 4ms/step - loss: 0.0033 - val_loss: 7.1174e-04\n",
            "760/760 [==============================] - 3s 4ms/step - loss: 0.0027 - val_loss: 0.0068\n",
            "760/760 [==============================] - 3s 4ms/step - loss: 0.0028 - val_loss: 0.0014\n",
            "760/760 [==============================] - 3s 4ms/step - loss: 0.0028 - val_loss: 0.0022\n",
            "760/760 [==============================] - 3s 4ms/step - loss: 0.0035 - val_loss: 0.0013\n",
            "760/760 [==============================] - 3s 4ms/step - loss: 0.0026 - val_loss: 2.4823e-04\n",
            "760/760 [==============================] - 3s 4ms/step - loss: 0.0022 - val_loss: 3.4992e-04\n",
            "760/760 [==============================] - 3s 4ms/step - loss: 0.0028 - val_loss: 0.0017\n",
            "760/760 [==============================] - 3s 4ms/step - loss: 0.0023 - val_loss: 0.0027\n",
            "760/760 [==============================] - 3s 4ms/step - loss: 0.0027 - val_loss: 4.5334e-04\n",
            "760/760 [==============================] - 3s 4ms/step - loss: 0.0024 - val_loss: 0.0015\n",
            "760/760 [==============================] - 3s 4ms/step - loss: 0.0028 - val_loss: 8.0186e-04\n",
            "760/760 [==============================] - 3s 4ms/step - loss: 0.0033 - val_loss: 0.0021\n",
            "760/760 [==============================] - 3s 4ms/step - loss: 0.0025 - val_loss: 0.0023\n",
            "760/760 [==============================] - 3s 4ms/step - loss: 0.0027 - val_loss: 0.0047\n",
            "760/760 [==============================] - 3s 4ms/step - loss: 0.0027 - val_loss: 0.0017\n",
            "760/760 [==============================] - 3s 4ms/step - loss: 0.0027 - val_loss: 0.0068\n",
            "760/760 [==============================] - 3s 4ms/step - loss: 0.0025 - val_loss: 0.0012\n",
            "760/760 [==============================] - 3s 4ms/step - loss: 0.0023 - val_loss: 8.3012e-04\n",
            "760/760 [==============================] - 3s 4ms/step - loss: 0.0023 - val_loss: 0.0024\n",
            "760/760 [==============================] - 3s 4ms/step - loss: 0.0028 - val_loss: 1.4551e-04\n",
            "760/760 [==============================] - 3s 4ms/step - loss: 0.0024 - val_loss: 7.3619e-04\n",
            "760/760 [==============================] - 3s 4ms/step - loss: 0.0021 - val_loss: 8.5023e-04\n",
            "760/760 [==============================] - 3s 4ms/step - loss: 0.0022 - val_loss: 0.0016\n",
            "760/760 [==============================] - 3s 4ms/step - loss: 0.0031 - val_loss: 7.5445e-04\n",
            "760/760 [==============================] - 3s 4ms/step - loss: 0.0026 - val_loss: 0.0012\n",
            "760/760 [==============================] - 3s 4ms/step - loss: 0.0025 - val_loss: 5.9416e-04\n",
            "760/760 [==============================] - 3s 4ms/step - loss: 0.0027 - val_loss: 4.0346e-04\n",
            "760/760 [==============================] - 3s 4ms/step - loss: 0.0022 - val_loss: 4.2166e-04\n",
            "760/760 [==============================] - 3s 4ms/step - loss: 0.0020 - val_loss: 4.9725e-04\n",
            "760/760 [==============================] - 3s 4ms/step - loss: 0.0033 - val_loss: 0.0044\n",
            "760/760 [==============================] - 3s 4ms/step - loss: 0.0022 - val_loss: 1.1898e-04\n",
            "760/760 [==============================] - 3s 4ms/step - loss: 0.0021 - val_loss: 5.7082e-04\n",
            "760/760 [==============================] - 3s 4ms/step - loss: 0.0024 - val_loss: 0.0011\n",
            "760/760 [==============================] - 3s 4ms/step - loss: 0.0024 - val_loss: 0.0011\n",
            "760/760 [==============================] - 3s 4ms/step - loss: 0.0023 - val_loss: 1.3330e-04\n",
            "760/760 [==============================] - 3s 4ms/step - loss: 0.0019 - val_loss: 0.0039\n",
            "760/760 [==============================] - 3s 4ms/step - loss: 0.0028 - val_loss: 1.7563e-04\n",
            "760/760 [==============================] - 3s 4ms/step - loss: 0.0022 - val_loss: 3.8395e-04\n",
            "760/760 [==============================] - 3s 4ms/step - loss: 0.0023 - val_loss: 1.7840e-04\n",
            "760/760 [==============================] - 3s 4ms/step - loss: 0.0023 - val_loss: 0.0015\n",
            "760/760 [==============================] - 3s 4ms/step - loss: 0.0025 - val_loss: 3.9012e-04\n",
            "760/760 [==============================] - 3s 4ms/step - loss: 0.0025 - val_loss: 2.7183e-04\n",
            "760/760 [==============================] - 3s 4ms/step - loss: 0.0023 - val_loss: 0.0020\n",
            "760/760 [==============================] - 3s 4ms/step - loss: 0.0023 - val_loss: 1.7037e-04\n",
            "760/760 [==============================] - 3s 4ms/step - loss: 0.0024 - val_loss: 7.8051e-04\n",
            "760/760 [==============================] - 3s 4ms/step - loss: 0.0027 - val_loss: 6.5007e-04\n",
            "760/760 [==============================] - 3s 4ms/step - loss: 0.0023 - val_loss: 1.0235e-04\n",
            "760/760 [==============================] - 3s 4ms/step - loss: 0.0023 - val_loss: 3.4141e-04\n",
            "760/760 [==============================] - 3s 4ms/step - loss: 0.0025 - val_loss: 5.3709e-04\n",
            "760/760 [==============================] - 3s 4ms/step - loss: 0.0024 - val_loss: 4.1754e-04\n",
            "760/760 [==============================] - 3s 4ms/step - loss: 0.0021 - val_loss: 2.3203e-04\n",
            "760/760 [==============================] - 3s 4ms/step - loss: 0.0023 - val_loss: 8.8395e-04\n",
            "760/760 [==============================] - 3s 4ms/step - loss: 0.0025 - val_loss: 0.0011\n",
            "760/760 [==============================] - 3s 4ms/step - loss: 0.0021 - val_loss: 4.4661e-05\n",
            "760/760 [==============================] - 3s 4ms/step - loss: 0.0023 - val_loss: 2.4502e-04\n",
            "760/760 [==============================] - 3s 4ms/step - loss: 0.0024 - val_loss: 0.0036\n",
            "760/760 [==============================] - 3s 4ms/step - loss: 0.0027 - val_loss: 1.0652e-04\n",
            "760/760 [==============================] - 3s 4ms/step - loss: 0.0020 - val_loss: 1.7375e-04\n",
            "760/760 [==============================] - 3s 4ms/step - loss: 0.0023 - val_loss: 0.0012\n",
            "760/760 [==============================] - 3s 4ms/step - loss: 0.0023 - val_loss: 5.8424e-05\n",
            "760/760 [==============================] - 3s 4ms/step - loss: 0.0020 - val_loss: 4.0610e-04\n",
            "760/760 [==============================] - 3s 4ms/step - loss: 0.0022 - val_loss: 2.6665e-04\n",
            "760/760 [==============================] - 3s 4ms/step - loss: 0.0022 - val_loss: 0.0012\n",
            "760/760 [==============================] - 3s 4ms/step - loss: 0.0023 - val_loss: 5.8932e-04\n",
            "760/760 [==============================] - 3s 4ms/step - loss: 0.0019 - val_loss: 6.4388e-04\n",
            "760/760 [==============================] - 3s 4ms/step - loss: 0.0023 - val_loss: 1.4025e-04\n",
            "760/760 [==============================] - 3s 4ms/step - loss: 0.0023 - val_loss: 6.3651e-04\n",
            "760/760 [==============================] - 3s 4ms/step - loss: 0.0021 - val_loss: 5.5063e-04\n",
            "760/760 [==============================] - 3s 4ms/step - loss: 0.0021 - val_loss: 1.7269e-04\n",
            "760/760 [==============================] - 3s 4ms/step - loss: 0.0021 - val_loss: 0.0012\n",
            "760/760 [==============================] - 3s 4ms/step - loss: 0.0022 - val_loss: 3.7116e-04\n",
            "760/760 [==============================] - 3s 4ms/step - loss: 0.0020 - val_loss: 7.8568e-04\n",
            "760/760 [==============================] - 3s 4ms/step - loss: 0.0022 - val_loss: 2.6266e-04\n",
            "760/760 [==============================] - 3s 4ms/step - loss: 0.0019 - val_loss: 3.2862e-04\n",
            "760/760 [==============================] - 3s 4ms/step - loss: 0.0026 - val_loss: 3.3104e-04\n",
            "760/760 [==============================] - 3s 4ms/step - loss: 0.0023 - val_loss: 4.1049e-04\n",
            "760/760 [==============================] - 3s 4ms/step - loss: 0.0023 - val_loss: 4.8510e-04\n",
            "760/760 [==============================] - 3s 4ms/step - loss: 0.0020 - val_loss: 2.6865e-04\n",
            "760/760 [==============================] - 3s 4ms/step - loss: 0.0023 - val_loss: 0.0011\n",
            "760/760 [==============================] - 3s 4ms/step - loss: 0.0020 - val_loss: 3.2603e-04\n",
            "760/760 [==============================] - 3s 4ms/step - loss: 0.0020 - val_loss: 3.0064e-04\n",
            "760/760 [==============================] - 3s 4ms/step - loss: 0.0022 - val_loss: 6.3205e-04\n",
            "760/760 [==============================] - 3s 4ms/step - loss: 0.0020 - val_loss: 2.5357e-04\n",
            "760/760 [==============================] - 3s 4ms/step - loss: 0.0021 - val_loss: 3.9852e-04\n",
            "760/760 [==============================] - 3s 4ms/step - loss: 0.0020 - val_loss: 3.9361e-04\n",
            "760/760 [==============================] - 3s 4ms/step - loss: 0.0020 - val_loss: 2.1500e-04\n",
            "760/760 [==============================] - 3s 4ms/step - loss: 0.0019 - val_loss: 2.1801e-04\n",
            "760/760 [==============================] - 3s 4ms/step - loss: 0.0022 - val_loss: 4.1648e-04\n",
            "760/760 [==============================] - 3s 4ms/step - loss: 0.0023 - val_loss: 2.9957e-04\n",
            "760/760 [==============================] - 3s 4ms/step - loss: 0.0021 - val_loss: 1.4097e-04\n",
            "760/760 [==============================] - 3s 4ms/step - loss: 0.0022 - val_loss: 1.5952e-04\n",
            "760/760 [==============================] - 3s 4ms/step - loss: 0.0021 - val_loss: 9.3218e-04\n",
            "760/760 [==============================] - 3s 4ms/step - loss: 0.0021 - val_loss: 2.1285e-04\n",
            "760/760 [==============================] - 3s 4ms/step - loss: 0.0021 - val_loss: 2.1955e-04\n",
            "760/760 [==============================] - 3s 4ms/step - loss: 0.0019 - val_loss: 0.0022\n",
            "760/760 [==============================] - 3s 4ms/step - loss: 0.0018 - val_loss: 5.4875e-04\n",
            "760/760 [==============================] - 3s 4ms/step - loss: 0.0020 - val_loss: 8.5388e-04\n",
            "760/760 [==============================] - 3s 4ms/step - loss: 0.0025 - val_loss: 1.7330e-04\n",
            "760/760 [==============================] - 3s 4ms/step - loss: 0.0021 - val_loss: 1.0246e-04\n",
            "760/760 [==============================] - 3s 4ms/step - loss: 0.0021 - val_loss: 1.7497e-04\n",
            "760/760 [==============================] - 3s 4ms/step - loss: 0.0023 - val_loss: 2.2577e-04\n",
            "760/760 [==============================] - 3s 4ms/step - loss: 0.0021 - val_loss: 8.6046e-05\n",
            "760/760 [==============================] - 3s 4ms/step - loss: 0.0020 - val_loss: 7.7055e-04\n",
            "760/760 [==============================] - 3s 4ms/step - loss: 0.0020 - val_loss: 1.7472e-04\n",
            "760/760 [==============================] - 3s 4ms/step - loss: 0.0023 - val_loss: 3.0957e-04\n",
            "760/760 [==============================] - 3s 4ms/step - loss: 0.0020 - val_loss: 4.9955e-04\n",
            "760/760 [==============================] - 3s 4ms/step - loss: 0.0021 - val_loss: 2.7645e-04\n",
            "760/760 [==============================] - 3s 4ms/step - loss: 0.0019 - val_loss: 3.8026e-05\n",
            "760/760 [==============================] - 3s 4ms/step - loss: 0.0021 - val_loss: 7.4526e-05\n",
            "760/760 [==============================] - 3s 4ms/step - loss: 0.0025 - val_loss: 1.1006e-04\n",
            "760/760 [==============================] - 3s 4ms/step - loss: 0.0021 - val_loss: 1.1735e-04\n",
            "760/760 [==============================] - 3s 4ms/step - loss: 0.0021 - val_loss: 4.0250e-04\n",
            "760/760 [==============================] - 3s 4ms/step - loss: 0.0023 - val_loss: 2.0755e-04\n",
            "760/760 [==============================] - 3s 4ms/step - loss: 0.0021 - val_loss: 6.4017e-04\n",
            "760/760 [==============================] - 3s 4ms/step - loss: 0.0024 - val_loss: 2.7260e-04\n",
            "760/760 [==============================] - 3s 4ms/step - loss: 0.0020 - val_loss: 1.7030e-04\n",
            "760/760 [==============================] - 3s 4ms/step - loss: 0.0021 - val_loss: 3.7883e-04\n",
            "760/760 [==============================] - 3s 4ms/step - loss: 0.0019 - val_loss: 8.5130e-05\n",
            "760/760 [==============================] - 3s 4ms/step - loss: 0.0022 - val_loss: 2.4667e-04\n",
            "760/760 [==============================] - 3s 4ms/step - loss: 0.0022 - val_loss: 1.1521e-04\n",
            "760/760 [==============================] - 3s 4ms/step - loss: 0.0020 - val_loss: 1.2698e-04\n",
            "760/760 [==============================] - 3s 4ms/step - loss: 0.0020 - val_loss: 1.1656e-04\n",
            "760/760 [==============================] - 3s 4ms/step - loss: 0.0020 - val_loss: 6.0574e-04\n",
            "760/760 [==============================] - 3s 4ms/step - loss: 0.0020 - val_loss: 3.9291e-04\n",
            "760/760 [==============================] - 3s 4ms/step - loss: 0.0021 - val_loss: 6.3283e-04\n",
            "760/760 [==============================] - 3s 4ms/step - loss: 0.0019 - val_loss: 2.4520e-04\n",
            "760/760 [==============================] - 3s 4ms/step - loss: 0.0021 - val_loss: 1.3872e-04\n",
            "760/760 [==============================] - 3s 4ms/step - loss: 0.0019 - val_loss: 2.7117e-04\n",
            "760/760 [==============================] - 3s 4ms/step - loss: 0.0021 - val_loss: 5.2862e-04\n",
            "760/760 [==============================] - 3s 4ms/step - loss: 0.0021 - val_loss: 6.7806e-05\n",
            "760/760 [==============================] - 3s 4ms/step - loss: 0.0019 - val_loss: 1.0542e-04\n",
            "760/760 [==============================] - 3s 4ms/step - loss: 0.0019 - val_loss: 1.3604e-04\n",
            "760/760 [==============================] - 3s 4ms/step - loss: 0.0018 - val_loss: 1.3537e-04\n",
            "760/760 [==============================] - 3s 4ms/step - loss: 0.0019 - val_loss: 1.7331e-04\n",
            "760/760 [==============================] - 3s 4ms/step - loss: 0.0019 - val_loss: 5.9416e-04\n",
            "760/760 [==============================] - 3s 4ms/step - loss: 0.0018 - val_loss: 2.3049e-04\n",
            "760/760 [==============================] - 3s 4ms/step - loss: 0.0021 - val_loss: 2.1666e-05\n",
            "760/760 [==============================] - 3s 4ms/step - loss: 0.0021 - val_loss: 1.0916e-04\n",
            "760/760 [==============================] - 3s 4ms/step - loss: 0.0022 - val_loss: 3.1723e-04\n",
            "760/760 [==============================] - 3s 4ms/step - loss: 0.0019 - val_loss: 3.6179e-05\n",
            "760/760 [==============================] - 3s 4ms/step - loss: 0.0018 - val_loss: 1.5463e-04\n",
            "760/760 [==============================] - 3s 4ms/step - loss: 0.0021 - val_loss: 2.1965e-04\n",
            "760/760 [==============================] - 3s 4ms/step - loss: 0.0020 - val_loss: 1.8692e-04\n",
            "760/760 [==============================] - 3s 4ms/step - loss: 0.0021 - val_loss: 3.9181e-04\n",
            "760/760 [==============================] - 3s 4ms/step - loss: 0.0020 - val_loss: 7.8919e-05\n",
            "760/760 [==============================] - 3s 4ms/step - loss: 0.0019 - val_loss: 7.9973e-05\n",
            "760/760 [==============================] - 3s 4ms/step - loss: 0.0020 - val_loss: 1.7367e-04\n",
            "760/760 [==============================] - 3s 4ms/step - loss: 0.0019 - val_loss: 8.0901e-05\n",
            "760/760 [==============================] - 3s 4ms/step - loss: 0.0020 - val_loss: 2.6469e-05\n",
            "760/760 [==============================] - 3s 4ms/step - loss: 0.0020 - val_loss: 4.5583e-04\n",
            "760/760 [==============================] - 3s 4ms/step - loss: 0.0018 - val_loss: 1.6113e-04\n",
            "760/760 [==============================] - 3s 4ms/step - loss: 0.0019 - val_loss: 1.7838e-04\n",
            "760/760 [==============================] - 3s 4ms/step - loss: 0.0020 - val_loss: 3.8600e-05\n",
            "760/760 [==============================] - 3s 4ms/step - loss: 0.0021 - val_loss: 1.5023e-04\n",
            "760/760 [==============================] - 3s 4ms/step - loss: 0.0020 - val_loss: 6.1233e-04\n",
            "760/760 [==============================] - 3s 4ms/step - loss: 0.0019 - val_loss: 2.6694e-04\n",
            "760/760 [==============================] - 3s 4ms/step - loss: 0.0019 - val_loss: 4.0571e-05\n",
            "760/760 [==============================] - 3s 4ms/step - loss: 0.0018 - val_loss: 3.7680e-04\n",
            "760/760 [==============================] - 3s 4ms/step - loss: 0.0019 - val_loss: 1.1518e-04\n",
            "760/760 [==============================] - 3s 4ms/step - loss: 0.0019 - val_loss: 3.2240e-05\n"
          ],
          "name": "stdout"
        }
      ]
    },
    {
      "cell_type": "code",
      "metadata": {
        "id": "WbrFEXXrBmCn",
        "colab_type": "code",
        "colab": {}
      },
      "source": [
        "# 5. 학습과정 살펴보기\n",
        "plt.plot(custom_hist.train_loss)\n",
        "plt.plot(custom_hist.val_loss)\n",
        "plt.ylim(0.0, 0.15)\n",
        "plt.ylabel('loss')\n",
        "plt.xlabel('epoch')\n",
        "plt.legend(['train', 'val'], loc='upper left')\n",
        "plt.show()"
      ],
      "execution_count": null,
      "outputs": []
    },
    {
      "cell_type": "code",
      "metadata": {
        "id": "MNQdTpaiBmCs",
        "colab_type": "code",
        "colab": {}
      },
      "source": [
        "# 6. 모델 평가하기\n",
        "trainScore = model3.evaluate(x_train, y_train, batch_size=1, verbose=0)\n",
        "model3.reset_states()\n",
        "print('Train Score: ', trainScore)\n",
        "valScore = model3.evaluate(x_val, y_val, batch_size=1, verbose=0)\n",
        "model3.reset_states()\n",
        "print('Validataion Score: ', valScore)\n",
        "testScore = model3.evaluate(x_test, y_test, batch_size=1, verbose=0)\n",
        "model3.reset_states()\n",
        "print('Test Score: ', testScore)"
      ],
      "execution_count": null,
      "outputs": []
    },
    {
      "cell_type": "code",
      "metadata": {
        "id": "bB00G-ftBmCz",
        "colab_type": "code",
        "colab": {}
      },
      "source": [
        "# 7. 모델 사용하기\n",
        "look_ahead = 250\n",
        "xhat = x_test[0]\n",
        "predictions = np.zeros((look_ahead,1))\n",
        "for i in range(look_ahead):\n",
        "    prediction = model.predict(np.array([xhat]), batch_size=1)\n",
        "    predictions[i] = prediction\n",
        "    xhat = np.vstack([xhat[1:],prediction])\n",
        "    \n",
        "plt.figure(figsize=(12,5))\n",
        "plt.plot(np.arange(look_ahead),predictions,'r',label=\"prediction\")\n",
        "plt.plot(np.arange(look_ahead),y_test[:look_ahead],label=\"test function\")\n",
        "plt.legend()\n",
        "plt.show()"
      ],
      "execution_count": null,
      "outputs": []
    }
  ]
}