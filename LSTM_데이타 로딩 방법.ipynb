{
  "nbformat": 4,
  "nbformat_minor": 0,
  "metadata": {
    "kernelspec": {
      "display_name": "Python 3",
      "language": "python",
      "name": "python3"
    },
    "language_info": {
      "codemirror_mode": {
        "name": "ipython",
        "version": 3
      },
      "file_extension": ".py",
      "mimetype": "text/x-python",
      "name": "python",
      "nbconvert_exporter": "python",
      "pygments_lexer": "ipython3",
      "version": "3.7.3"
    },
    "colab": {
      "name": "4.12 LSTM - 시계열.ipynb",
      "provenance": [],
      "toc_visible": true,
      "include_colab_link": true
    },
    "accelerator": "GPU"
  },
  "cells": [
    {
      "cell_type": "markdown",
      "metadata": {
        "id": "view-in-github",
        "colab_type": "text"
      },
      "source": [
        "<a href=\"https://colab.research.google.com/github/leeyangkyoo/Android-Bridge-App/blob/master/LSTM_%EB%8D%B0%EC%9D%B4%ED%83%80%20%EB%A1%9C%EB%94%A9%20%EB%B0%A9%EB%B2%95.ipynb\" target=\"_parent\"><img src=\"https://colab.research.google.com/assets/colab-badge.svg\" alt=\"Open In Colab\"/></a>"
      ]
    },
    {
      "cell_type": "markdown",
      "metadata": {
        "id": "_5GpGK-uZSO7",
        "colab_type": "text"
      },
      "source": [
        "# 4.12 LSTM 주가분석"
      ]
    },
    {
      "cell_type": "code",
      "metadata": {
        "id": "CyMBA32S31EQ",
        "colab_type": "code",
        "colab": {}
      },
      "source": [
        "from IPython.display import display, Javascript\n",
        "from google.colab.output import eval_js\n",
        "from base64 import b64decode\n",
        "\n",
        "def take_photo(filename='photo.jpg', quality=0.8):\n",
        "  js = Javascript('''\n",
        "    async function takePhoto(quality) {\n",
        "      const div = document.createElement('div');\n",
        "      const capture = document.createElement('button');\n",
        "      capture.textContent = 'Capture';\n",
        "      div.appendChild(capture);\n",
        "\n",
        "      const video = document.createElement('video');\n",
        "      video.style.display = 'block';\n",
        "      const stream = await navigator.mediaDevices.getUserMedia({video: true});\n",
        "\n",
        "      document.body.appendChild(div);\n",
        "      div.appendChild(video);\n",
        "      video.srcObject = stream;\n",
        "      await video.play();\n",
        "\n",
        "      // Resize the output to fit the video element.\n",
        "      google.colab.output.setIframeHeight(document.documentElement.scrollHeight, true);\n",
        "\n",
        "      // Wait for Capture to be clicked.\n",
        "      await new Promise((resolve) => capture.onclick = resolve);\n",
        "\n",
        "      const canvas = document.createElement('canvas');\n",
        "      canvas.width = video.videoWidth;\n",
        "      canvas.height = video.videoHeight;\n",
        "      canvas.getContext('2d').drawImage(video, 0, 0);\n",
        "      stream.getVideoTracks()[0].stop();\n",
        "      div.remove();\n",
        "      return canvas.toDataURL('image/jpeg', quality);\n",
        "    }\n",
        "    ''')\n",
        "  display(js)\n",
        "  data = eval_js('takePhoto({})'.format(quality))\n",
        "  binary = b64decode(data.split(',')[1])\n",
        "  with open(filename, 'wb') as f:\n",
        "    f.write(binary)\n",
        "  return filename"
      ],
      "execution_count": null,
      "outputs": []
    },
    {
      "cell_type": "code",
      "metadata": {
        "id": "ILw5V9JQ31DU",
        "colab_type": "code",
        "colab": {
          "base_uri": "https://localhost:8080/",
          "height": 514
        },
        "outputId": "11994c44-95b1-4a5e-a42e-55a8c6bc92c9"
      },
      "source": [
        "from IPython.display import Image\n",
        "try:\n",
        "  filename = take_photo()\n",
        "  print('Saved to {}'.format(filename))\n",
        "  \n",
        "  # Show the image which was just taken.\n",
        "  display(Image(filename))\n",
        "except Exception as err:\n",
        "  # Errors will be thrown if the user does not have a webcam or if they do not\n",
        "  # grant the page permission to access it.\n",
        "  print(str(err))"
      ],
      "execution_count": null,
      "outputs": [
        {
          "output_type": "display_data",
          "data": {
            "application/javascript": [
              "\n",
              "    async function takePhoto(quality) {\n",
              "      const div = document.createElement('div');\n",
              "      const capture = document.createElement('button');\n",
              "      capture.textContent = 'Capture';\n",
              "      div.appendChild(capture);\n",
              "\n",
              "      const video = document.createElement('video');\n",
              "      video.style.display = 'block';\n",
              "      const stream = await navigator.mediaDevices.getUserMedia({video: true});\n",
              "\n",
              "      document.body.appendChild(div);\n",
              "      div.appendChild(video);\n",
              "      video.srcObject = stream;\n",
              "      await video.play();\n",
              "\n",
              "      // Resize the output to fit the video element.\n",
              "      google.colab.output.setIframeHeight(document.documentElement.scrollHeight, true);\n",
              "\n",
              "      // Wait for Capture to be clicked.\n",
              "      await new Promise((resolve) => capture.onclick = resolve);\n",
              "\n",
              "      const canvas = document.createElement('canvas');\n",
              "      canvas.width = video.videoWidth;\n",
              "      canvas.height = video.videoHeight;\n",
              "      canvas.getContext('2d').drawImage(video, 0, 0);\n",
              "      stream.getVideoTracks()[0].stop();\n",
              "      div.remove();\n",
              "      return canvas.toDataURL('image/jpeg', quality);\n",
              "    }\n",
              "    "
            ],
            "text/plain": [
              "<IPython.core.display.Javascript object>"
            ]
          },
          "metadata": {
            "tags": []
          }
        },
        {
          "output_type": "stream",
          "text": [
            "Saved to photo.jpg\n"
          ],
          "name": "stdout"
        },
        {
          "output_type": "display_data",
          "data": {
            "image/jpeg": "[encoded data removed]",
            "text/plain": [
              "<IPython.core.display.Image object>"
            ]
          },
          "metadata": {
            "tags": []
          }
        }
      ]
    },
    {
      "cell_type": "code",
      "metadata": {
        "id": "5t4yQFs3ZSPA",
        "colab_type": "code",
        "colab": {}
      },
      "source": [
        "import tensorflow as tf\n",
        "import numpy as np\n",
        "import pandas as pd"
      ],
      "execution_count": 1,
      "outputs": []
    },
    {
      "cell_type": "code",
      "metadata": {
        "id": "IIuzouQrZSPW",
        "colab_type": "code",
        "colab": {
          "base_uri": "https://localhost:8080/",
          "height": 71
        },
        "outputId": "07601976-b3bb-4556-fdd3-e797db2e05e6"
      },
      "source": [
        "import matplotlib.pyplot as plt\n",
        "import seaborn as sns\n",
        "%matplotlib inline"
      ],
      "execution_count": 2,
      "outputs": [
        {
          "output_type": "stream",
          "text": [
            "/usr/local/lib/python3.6/dist-packages/statsmodels/tools/_testing.py:19: FutureWarning: pandas.util.testing is deprecated. Use the functions in the public API at pandas.testing instead.\n",
            "  import pandas.util.testing as tm\n"
          ],
          "name": "stderr"
        }
      ]
    },
    {
      "cell_type": "code",
      "metadata": {
        "id": "ubEuZ9TbZSPu",
        "colab_type": "code",
        "colab": {}
      },
      "source": [
        "from sklearn.preprocessing import MinMaxScaler"
      ],
      "execution_count": 3,
      "outputs": []
    },
    {
      "cell_type": "code",
      "metadata": {
        "id": "-SR8L8aNZSP-",
        "colab_type": "code",
        "colab": {}
      },
      "source": [
        "seed = 0\n",
        "np.random.seed(seed)\n",
        "tf.random.set_seed(seed)"
      ],
      "execution_count": 4,
      "outputs": []
    },
    {
      "cell_type": "code",
      "metadata": {
        "id": "rpitmL9gZSQT",
        "colab_type": "code",
        "colab": {}
      },
      "source": [
        "dataset = pd.read_csv(\"./sample01.csv\", delimiter=\",\")"
      ],
      "execution_count": 17,
      "outputs": []
    },
    {
      "cell_type": "code",
      "metadata": {
        "id": "fLBLJGefaeHh",
        "colab_type": "code",
        "colab": {}
      },
      "source": [
        "dataset = pd.read_csv(\"./lee0911_01.csv\", delimiter=\",\")"
      ],
      "execution_count": 21,
      "outputs": []
    },
    {
      "cell_type": "code",
      "metadata": {
        "id": "FsvcgRiQW3Pw",
        "colab_type": "code",
        "colab": {}
      },
      "source": [
        "dataset = pd.read_csv(\"./SEC005930.KS.csv\", delimiter=\",\")"
      ],
      "execution_count": 13,
      "outputs": []
    },
    {
      "cell_type": "code",
      "metadata": {
        "id": "lcwcMUraZSQi",
        "colab_type": "code",
        "colab": {
          "base_uri": "https://localhost:8080/",
          "height": 170
        },
        "outputId": "8d7d2b41-3197-4822-a31b-730cec12834e"
      },
      "source": [
        "dataset.info()"
      ],
      "execution_count": 22,
      "outputs": [
        {
          "output_type": "stream",
          "text": [
            "<class 'pandas.core.frame.DataFrame'>\n",
            "RangeIndex: 131072 entries, 0 to 131071\n",
            "Data columns (total 2 columns):\n",
            " #   Column    Non-Null Count   Dtype  \n",
            "---  ------    --------------   -----  \n",
            " 0   Time      131072 non-null  float64\n",
            " 1   Vol(FFT)  131072 non-null  float64\n",
            "dtypes: float64(2)\n",
            "memory usage: 2.0 MB\n"
          ],
          "name": "stdout"
        }
      ]
    },
    {
      "cell_type": "code",
      "metadata": {
        "id": "bd4dvKxnZSQ4",
        "colab_type": "code",
        "colab": {
          "base_uri": "https://localhost:8080/",
          "height": 297
        },
        "outputId": "4a335e01-dc47-4962-d748-97edc4336885"
      },
      "source": [
        "dataset.describe()"
      ],
      "execution_count": 23,
      "outputs": [
        {
          "output_type": "execute_result",
          "data": {
            "text/html": [
              "<div>\n",
              "<style scoped>\n",
              "    .dataframe tbody tr th:only-of-type {\n",
              "        vertical-align: middle;\n",
              "    }\n",
              "\n",
              "    .dataframe tbody tr th {\n",
              "        vertical-align: top;\n",
              "    }\n",
              "\n",
              "    .dataframe thead th {\n",
              "        text-align: right;\n",
              "    }\n",
              "</style>\n",
              "<table border=\"1\" class=\"dataframe\">\n",
              "  <thead>\n",
              "    <tr style=\"text-align: right;\">\n",
              "      <th></th>\n",
              "      <th>Time</th>\n",
              "      <th>Vol(FFT)</th>\n",
              "    </tr>\n",
              "  </thead>\n",
              "  <tbody>\n",
              "    <tr>\n",
              "      <th>count</th>\n",
              "      <td>131072.000000</td>\n",
              "      <td>131072.000000</td>\n",
              "    </tr>\n",
              "    <tr>\n",
              "      <th>mean</th>\n",
              "      <td>24999.809266</td>\n",
              "      <td>0.000141</td>\n",
              "    </tr>\n",
              "    <tr>\n",
              "      <th>std</th>\n",
              "      <td>14433.811790</td>\n",
              "      <td>0.013756</td>\n",
              "    </tr>\n",
              "    <tr>\n",
              "      <th>min</th>\n",
              "      <td>0.000000</td>\n",
              "      <td>0.000000</td>\n",
              "    </tr>\n",
              "    <tr>\n",
              "      <th>25%</th>\n",
              "      <td>12499.904632</td>\n",
              "      <td>0.000018</td>\n",
              "    </tr>\n",
              "    <tr>\n",
              "      <th>50%</th>\n",
              "      <td>24999.809265</td>\n",
              "      <td>0.000028</td>\n",
              "    </tr>\n",
              "    <tr>\n",
              "      <th>75%</th>\n",
              "      <td>37499.713897</td>\n",
              "      <td>0.000041</td>\n",
              "    </tr>\n",
              "    <tr>\n",
              "      <th>max</th>\n",
              "      <td>49999.618530</td>\n",
              "      <td>2.360404</td>\n",
              "    </tr>\n",
              "  </tbody>\n",
              "</table>\n",
              "</div>"
            ],
            "text/plain": [
              "                Time       Vol(FFT)\n",
              "count  131072.000000  131072.000000\n",
              "mean    24999.809266       0.000141\n",
              "std     14433.811790       0.013756\n",
              "min         0.000000       0.000000\n",
              "25%     12499.904632       0.000018\n",
              "50%     24999.809265       0.000028\n",
              "75%     37499.713897       0.000041\n",
              "max     49999.618530       2.360404"
            ]
          },
          "metadata": {
            "tags": []
          },
          "execution_count": 23
        }
      ]
    },
    {
      "cell_type": "code",
      "metadata": {
        "id": "W7rcy2ujXH8X",
        "colab_type": "code",
        "colab": {}
      },
      "source": [
        ""
      ],
      "execution_count": null,
      "outputs": []
    },
    {
      "cell_type": "code",
      "metadata": {
        "id": "378IwdZgWYJ1",
        "colab_type": "code",
        "colab": {
          "base_uri": "https://localhost:8080/",
          "height": 282
        },
        "outputId": "79ea2f18-647a-42ac-836e-d7d935e3f4c8"
      },
      "source": [
        "dataset['Vol(FFT)'].plot()"
      ],
      "execution_count": 24,
      "outputs": [
        {
          "output_type": "execute_result",
          "data": {
            "text/plain": [
              "<matplotlib.axes._subplots.AxesSubplot at 0x7f37d2949a58>"
            ]
          },
          "metadata": {
            "tags": []
          },
          "execution_count": 24
        },
        {
          "output_type": "display_data",
          "data": {
            "image/png": "[encoded data removed]",
            "text/plain": [
              "<Figure size 432x288 with 1 Axes>"
            ]
          },
          "metadata": {
            "tags": [],
            "needs_background": "light"
          }
        }
      ]
    },
    {
      "cell_type": "code",
      "metadata": {
        "id": "jpz1mudKZSRO",
        "colab_type": "code",
        "colab": {
          "base_uri": "https://localhost:8080/",
          "height": 282
        },
        "outputId": "6715a5fc-b82f-4ff0-c854-ec66f3799e53"
      },
      "source": [
        "dataset['Close'].plot()"
      ],
      "execution_count": 16,
      "outputs": [
        {
          "output_type": "execute_result",
          "data": {
            "text/plain": [
              "<matplotlib.axes._subplots.AxesSubplot at 0x7f3782c57198>"
            ]
          },
          "metadata": {
            "tags": []
          },
          "execution_count": 16
        },
        {
          "output_type": "display_data",
          "data": {
            "image/png": "[encoded data removed]",
            "text/plain": [
              "<Figure size 432x288 with 1 Axes>"
            ]
          },
          "metadata": {
            "tags": [],
            "needs_background": "light"
          }
        }
      ]
    },
    {
      "cell_type": "code",
      "metadata": {
        "id": "zNx1pcIJZSRg",
        "colab_type": "code",
        "colab": {
          "base_uri": "https://localhost:8080/",
          "height": 34
        },
        "outputId": "a2a9019c-7a93-49f6-8b47-f87676182663"
      },
      "source": [
        "dataset.columns"
      ],
      "execution_count": null,
      "outputs": [
        {
          "output_type": "execute_result",
          "data": {
            "text/plain": [
              "Index(['Date', 'Open', 'High', 'Low', 'Close', 'Adj Close', 'Volume'], dtype='object')"
            ]
          },
          "metadata": {
            "tags": []
          },
          "execution_count": 12
        }
      ]
    },
    {
      "cell_type": "code",
      "metadata": {
        "id": "R-29qowBZSRs",
        "colab_type": "code",
        "colab": {}
      },
      "source": [
        "df_price = dataset[[\"Close\"]]"
      ],
      "execution_count": null,
      "outputs": []
    },
    {
      "cell_type": "code",
      "metadata": {
        "id": "tMjNEMnkZSR4",
        "colab_type": "code",
        "colab": {}
      },
      "source": [
        "scalar = MinMaxScaler()\n",
        "df_price = scalar.fit_transform(df_price)"
      ],
      "execution_count": null,
      "outputs": []
    },
    {
      "cell_type": "markdown",
      "metadata": {
        "id": "lCkSKZMIjLZb",
        "colab_type": "text"
      },
      "source": [
        ""
      ]
    },
    {
      "cell_type": "code",
      "metadata": {
        "id": "kMXenFq_ZSSC",
        "colab_type": "code",
        "colab": {
          "base_uri": "https://localhost:8080/",
          "height": 34
        },
        "outputId": "09a4ce27-b63d-42f0-c9c4-6fc66e2af470"
      },
      "source": [
        "price = df_price.tolist()\n",
        "len(price)"
      ],
      "execution_count": null,
      "outputs": [
        {
          "output_type": "execute_result",
          "data": {
            "text/plain": [
              "2219"
            ]
          },
          "metadata": {
            "tags": []
          },
          "execution_count": 15
        }
      ]
    },
    {
      "cell_type": "code",
      "metadata": {
        "id": "7AKl9BBlZSSP",
        "colab_type": "code",
        "colab": {
          "base_uri": "https://localhost:8080/",
          "height": 34
        },
        "outputId": "d6473e30-73bf-4f1a-8c43-de1c8584ac31"
      },
      "source": [
        "price[1]"
      ],
      "execution_count": null,
      "outputs": [
        {
          "output_type": "execute_result",
          "data": {
            "text/plain": [
              "[0.06831728564878498]"
            ]
          },
          "metadata": {
            "tags": []
          },
          "execution_count": 16
        }
      ]
    },
    {
      "cell_type": "code",
      "metadata": {
        "id": "xPBmtf9KZSSY",
        "colab_type": "code",
        "colab": {}
      },
      "source": [
        "time_steps = 5\n",
        "x = []\n",
        "y = []\n",
        "\n",
        "for i in range(len(price) - time_steps):\n",
        "    x.append([price[i+j] for j in range(time_steps)])\n",
        "    y.append(price[time_steps + i])\n"
      ],
      "execution_count": null,
      "outputs": []
    },
    {
      "cell_type": "code",
      "metadata": {
        "id": "4B65QohnZSSh",
        "colab_type": "code",
        "colab": {
          "base_uri": "https://localhost:8080/",
          "height": 101
        },
        "outputId": "6146fdb3-994d-41bd-95b3-2dc30831252c"
      },
      "source": [
        "x[0]"
      ],
      "execution_count": null,
      "outputs": [
        {
          "output_type": "execute_result",
          "data": {
            "text/plain": [
              "[[0.06327372764786798],\n",
              " [0.06831728564878498],\n",
              " [0.07198532783127004],\n",
              " [0.06740027510316371],\n",
              " [0.05960568546538286]]"
            ]
          },
          "metadata": {
            "tags": []
          },
          "execution_count": 18
        }
      ]
    },
    {
      "cell_type": "code",
      "metadata": {
        "id": "HM_Z_NmOZSSr",
        "colab_type": "code",
        "colab": {
          "base_uri": "https://localhost:8080/",
          "height": 34
        },
        "outputId": "96aa7d5a-fb2d-4ac6-ed2a-9d71069ad92b"
      },
      "source": [
        "len(x)"
      ],
      "execution_count": null,
      "outputs": [
        {
          "output_type": "execute_result",
          "data": {
            "text/plain": [
              "2214"
            ]
          },
          "metadata": {
            "tags": []
          },
          "execution_count": 19
        }
      ]
    },
    {
      "cell_type": "code",
      "metadata": {
        "id": "R8jN8NwTZSSz",
        "colab_type": "code",
        "colab": {
          "base_uri": "https://localhost:8080/",
          "height": 34
        },
        "outputId": "73cc6c13-fdae-4335-9cee-e4b8fa0b1627"
      },
      "source": [
        "y[0]"
      ],
      "execution_count": null,
      "outputs": [
        {
          "output_type": "execute_result",
          "data": {
            "text/plain": [
              "[0.05960568546538286]"
            ]
          },
          "metadata": {
            "tags": []
          },
          "execution_count": 20
        }
      ]
    },
    {
      "cell_type": "code",
      "metadata": {
        "id": "axP-deV6ZSS7",
        "colab_type": "code",
        "colab": {
          "base_uri": "https://localhost:8080/",
          "height": 34
        },
        "outputId": "07a0a4cb-acd1-4d88-922c-5b923b3c86f5"
      },
      "source": [
        "len(y)"
      ],
      "execution_count": null,
      "outputs": [
        {
          "output_type": "execute_result",
          "data": {
            "text/plain": [
              "2214"
            ]
          },
          "metadata": {
            "tags": []
          },
          "execution_count": 21
        }
      ]
    },
    {
      "cell_type": "code",
      "metadata": {
        "id": "ajiPCyQ5ZSTF",
        "colab_type": "code",
        "colab": {}
      },
      "source": [
        "x = np.asarray(x)\n",
        "y = np.asarray(y)"
      ],
      "execution_count": null,
      "outputs": []
    },
    {
      "cell_type": "code",
      "metadata": {
        "id": "GGKq22ueZSTP",
        "colab_type": "code",
        "colab": {
          "base_uri": "https://localhost:8080/",
          "height": 101
        },
        "outputId": "ef897a45-5c2e-4c97-f435-53ea91e1cace"
      },
      "source": [
        "x[0]"
      ],
      "execution_count": null,
      "outputs": [
        {
          "output_type": "execute_result",
          "data": {
            "text/plain": [
              "array([[0.06327373],\n",
              "       [0.06831729],\n",
              "       [0.07198533],\n",
              "       [0.06740028],\n",
              "       [0.05960569]])"
            ]
          },
          "metadata": {
            "tags": []
          },
          "execution_count": 23
        }
      ]
    },
    {
      "cell_type": "code",
      "metadata": {
        "id": "7sapVyeOZSTZ",
        "colab_type": "code",
        "colab": {
          "base_uri": "https://localhost:8080/",
          "height": 101
        },
        "outputId": "c2e6389b-1c35-49c1-d459-e6016b59e987"
      },
      "source": [
        "x[1]"
      ],
      "execution_count": null,
      "outputs": [
        {
          "output_type": "execute_result",
          "data": {
            "text/plain": [
              "array([[0.06831729],\n",
              "       [0.07198533],\n",
              "       [0.06740028],\n",
              "       [0.05960569],\n",
              "       [0.05960569]])"
            ]
          },
          "metadata": {
            "tags": []
          },
          "execution_count": 24
        }
      ]
    },
    {
      "cell_type": "code",
      "metadata": {
        "id": "RlwW504IZSTj",
        "colab_type": "code",
        "colab": {}
      },
      "source": [
        "x[2]"
      ],
      "execution_count": null,
      "outputs": []
    },
    {
      "cell_type": "code",
      "metadata": {
        "id": "MSBVtm_zZSTt",
        "colab_type": "code",
        "colab": {}
      },
      "source": [
        "y[0]"
      ],
      "execution_count": null,
      "outputs": []
    },
    {
      "cell_type": "code",
      "metadata": {
        "id": "zzV-EY3oZST1",
        "colab_type": "code",
        "colab": {}
      },
      "source": [
        "y[1]"
      ],
      "execution_count": null,
      "outputs": []
    },
    {
      "cell_type": "code",
      "metadata": {
        "id": "xbinpN-mZSUF",
        "colab_type": "code",
        "colab": {
          "base_uri": "https://localhost:8080/",
          "height": 50
        },
        "outputId": "ff637945-424a-4d28-d84d-1b71f8dd156b"
      },
      "source": [
        "print(len(x))\n",
        "print(len(y))"
      ],
      "execution_count": null,
      "outputs": [
        {
          "output_type": "stream",
          "text": [
            "2214\n",
            "2214\n"
          ],
          "name": "stdout"
        }
      ]
    },
    {
      "cell_type": "code",
      "metadata": {
        "id": "3jEzm8rfZSUS",
        "colab_type": "code",
        "colab": {}
      },
      "source": [
        "train_test_split = 2000\n",
        "\n",
        "x_train = x[:train_test_split, :]\n",
        "y_train = y[:train_test_split]\n",
        "\n",
        "x_test = x[train_test_split:, :]\n",
        "y_test = y[train_test_split :]"
      ],
      "execution_count": null,
      "outputs": []
    },
    {
      "cell_type": "code",
      "metadata": {
        "id": "OfUNemCGZSUh",
        "colab_type": "code",
        "colab": {
          "base_uri": "https://localhost:8080/",
          "height": 34
        },
        "outputId": "df136c5b-bd00-4a8d-a77a-83a348831412"
      },
      "source": [
        "x_train.shape"
      ],
      "execution_count": null,
      "outputs": [
        {
          "output_type": "execute_result",
          "data": {
            "text/plain": [
              "(2000, 5, 1)"
            ]
          },
          "metadata": {
            "tags": []
          },
          "execution_count": 28
        }
      ]
    },
    {
      "cell_type": "code",
      "metadata": {
        "id": "GyM7JGBkZSUu",
        "colab_type": "code",
        "colab": {
          "base_uri": "https://localhost:8080/",
          "height": 34
        },
        "outputId": "3c2eaf2f-1c2b-4646-98b5-dba06b3688a4"
      },
      "source": [
        "x_test.shape"
      ],
      "execution_count": null,
      "outputs": [
        {
          "output_type": "execute_result",
          "data": {
            "text/plain": [
              "(214, 5, 1)"
            ]
          },
          "metadata": {
            "tags": []
          },
          "execution_count": 29
        }
      ]
    },
    {
      "cell_type": "code",
      "metadata": {
        "id": "4auUNXIVZSU8",
        "colab_type": "code",
        "colab": {}
      },
      "source": [
        "x_train = np.reshape(x_train, (x_train.shape[0], x_train.shape[1], 1))\n",
        "x_test = np.reshape(x_test, (x_test.shape[0], x_test.shape[1], 1))"
      ],
      "execution_count": null,
      "outputs": []
    },
    {
      "cell_type": "code",
      "metadata": {
        "id": "H4tL3ABtZSVJ",
        "colab_type": "code",
        "colab": {
          "base_uri": "https://localhost:8080/",
          "height": 101
        },
        "outputId": "e6c6e0f4-f20f-4eaa-c8f7-329aca2e6ba6"
      },
      "source": [
        "x_train[0]"
      ],
      "execution_count": null,
      "outputs": [
        {
          "output_type": "execute_result",
          "data": {
            "text/plain": [
              "array([[0.06327373],\n",
              "       [0.06831729],\n",
              "       [0.07198533],\n",
              "       [0.06740028],\n",
              "       [0.05960569]])"
            ]
          },
          "metadata": {
            "tags": []
          },
          "execution_count": 31
        }
      ]
    },
    {
      "cell_type": "code",
      "metadata": {
        "id": "P7Jcd3U-ZSVY",
        "colab_type": "code",
        "colab": {
          "base_uri": "https://localhost:8080/",
          "height": 34
        },
        "outputId": "e7dba704-d3b0-4a36-dd8d-ff5bb9ec148f"
      },
      "source": [
        "x_train.shape"
      ],
      "execution_count": null,
      "outputs": [
        {
          "output_type": "execute_result",
          "data": {
            "text/plain": [
              "(2000, 5, 1)"
            ]
          },
          "metadata": {
            "tags": []
          },
          "execution_count": 32
        }
      ]
    },
    {
      "cell_type": "code",
      "metadata": {
        "id": "kQFy9vJAZSVr",
        "colab_type": "code",
        "colab": {}
      },
      "source": [
        "model = tf.keras.models.Sequential([\n",
        "  tf.keras.layers.LSTM(32, input_shape=(None,1)),\n",
        "  tf.keras.layers.Dropout(0.3),\n",
        "  #tf.keras.layers.Dense(1, activation='linear')\n",
        "  tf.keras.layers.Dense(1)\n",
        "])"
      ],
      "execution_count": null,
      "outputs": []
    },
    {
      "cell_type": "code",
      "metadata": {
        "id": "lAc5UaZKZSV4",
        "colab_type": "code",
        "colab": {
          "base_uri": "https://localhost:8080/",
          "height": 252
        },
        "outputId": "b70d74e5-616f-4604-f153-a0c488fa2f1a"
      },
      "source": [
        "model.compile(loss='mean_squared_error', optimizer='adam')\n",
        "model.summary()"
      ],
      "execution_count": null,
      "outputs": [
        {
          "output_type": "stream",
          "text": [
            "Model: \"sequential\"\n",
            "_________________________________________________________________\n",
            "Layer (type)                 Output Shape              Param #   \n",
            "=================================================================\n",
            "lstm (LSTM)                  (None, 32)                4352      \n",
            "_________________________________________________________________\n",
            "dropout (Dropout)            (None, 32)                0         \n",
            "_________________________________________________________________\n",
            "dense (Dense)                (None, 1)                 33        \n",
            "=================================================================\n",
            "Total params: 4,385\n",
            "Trainable params: 4,385\n",
            "Non-trainable params: 0\n",
            "_________________________________________________________________\n"
          ],
          "name": "stdout"
        }
      ]
    },
    {
      "cell_type": "code",
      "metadata": {
        "id": "NCjrmMr4ZSWE",
        "colab_type": "code",
        "colab": {
          "base_uri": "https://localhost:8080/",
          "height": 1000
        },
        "outputId": "7fb0040f-b3a3-4fad-8da3-674340c62931"
      },
      "source": [
        "hist = model.fit(x_train, y_train, epochs=250, batch_size=32,validation_data=(x_test, y_test), verbose=2, shuffle=False)"
      ],
      "execution_count": null,
      "outputs": [
        {
          "output_type": "stream",
          "text": [
            "Epoch 1/250\n",
            "63/63 - 1s - loss: 0.0084 - val_loss: 0.0093\n",
            "Epoch 2/250\n",
            "63/63 - 0s - loss: 0.0096 - val_loss: 0.0030\n",
            "Epoch 3/250\n",
            "63/63 - 0s - loss: 0.0052 - val_loss: 0.0020\n",
            "Epoch 4/250\n",
            "63/63 - 0s - loss: 0.0035 - val_loss: 7.3366e-04\n",
            "Epoch 5/250\n",
            "63/63 - 0s - loss: 0.0031 - val_loss: 7.4368e-04\n",
            "Epoch 6/250\n",
            "63/63 - 0s - loss: 0.0032 - val_loss: 5.8160e-04\n",
            "Epoch 7/250\n",
            "63/63 - 0s - loss: 0.0029 - val_loss: 6.1620e-04\n",
            "Epoch 8/250\n",
            "63/63 - 0s - loss: 0.0029 - val_loss: 0.0013\n",
            "Epoch 9/250\n",
            "63/63 - 0s - loss: 0.0035 - val_loss: 6.6961e-04\n",
            "Epoch 10/250\n",
            "63/63 - 0s - loss: 0.0041 - val_loss: 0.0027\n",
            "Epoch 11/250\n",
            "63/63 - 0s - loss: 0.0033 - val_loss: 0.0014\n",
            "Epoch 12/250\n",
            "63/63 - 0s - loss: 0.0026 - val_loss: 0.0020\n",
            "Epoch 13/250\n",
            "63/63 - 0s - loss: 0.0022 - val_loss: 6.9441e-04\n",
            "Epoch 14/250\n",
            "63/63 - 0s - loss: 0.0022 - val_loss: 9.7253e-04\n",
            "Epoch 15/250\n",
            "63/63 - 0s - loss: 0.0025 - val_loss: 8.2367e-04\n",
            "Epoch 16/250\n",
            "63/63 - 0s - loss: 0.0024 - val_loss: 0.0011\n",
            "Epoch 17/250\n",
            "63/63 - 0s - loss: 0.0028 - val_loss: 0.0016\n",
            "Epoch 18/250\n",
            "63/63 - 0s - loss: 0.0024 - val_loss: 0.0033\n",
            "Epoch 19/250\n",
            "63/63 - 0s - loss: 0.0020 - val_loss: 0.0014\n",
            "Epoch 20/250\n",
            "63/63 - 0s - loss: 0.0019 - val_loss: 0.0026\n",
            "Epoch 21/250\n",
            "63/63 - 0s - loss: 0.0017 - val_loss: 9.0448e-04\n",
            "Epoch 22/250\n",
            "63/63 - 0s - loss: 0.0019 - val_loss: 0.0016\n",
            "Epoch 23/250\n",
            "63/63 - 0s - loss: 0.0020 - val_loss: 0.0028\n",
            "Epoch 24/250\n",
            "63/63 - 0s - loss: 0.0020 - val_loss: 0.0017\n",
            "Epoch 25/250\n",
            "63/63 - 0s - loss: 0.0019 - val_loss: 0.0032\n",
            "Epoch 26/250\n",
            "63/63 - 0s - loss: 0.0019 - val_loss: 0.0036\n",
            "Epoch 27/250\n",
            "63/63 - 0s - loss: 0.0016 - val_loss: 0.0013\n",
            "Epoch 28/250\n",
            "63/63 - 0s - loss: 0.0016 - val_loss: 0.0011\n",
            "Epoch 29/250\n",
            "63/63 - 0s - loss: 0.0016 - val_loss: 0.0013\n",
            "Epoch 30/250\n",
            "63/63 - 0s - loss: 0.0016 - val_loss: 5.9607e-04\n",
            "Epoch 31/250\n",
            "63/63 - 0s - loss: 0.0016 - val_loss: 0.0016\n",
            "Epoch 32/250\n",
            "63/63 - 0s - loss: 0.0015 - val_loss: 0.0016\n",
            "Epoch 33/250\n",
            "63/63 - 0s - loss: 0.0016 - val_loss: 0.0016\n",
            "Epoch 34/250\n",
            "63/63 - 0s - loss: 0.0017 - val_loss: 0.0014\n",
            "Epoch 35/250\n",
            "63/63 - 0s - loss: 0.0018 - val_loss: 0.0035\n",
            "Epoch 36/250\n",
            "63/63 - 0s - loss: 0.0015 - val_loss: 0.0021\n",
            "Epoch 37/250\n",
            "63/63 - 0s - loss: 0.0015 - val_loss: 0.0013\n",
            "Epoch 38/250\n",
            "63/63 - 0s - loss: 0.0015 - val_loss: 0.0017\n",
            "Epoch 39/250\n",
            "63/63 - 0s - loss: 0.0014 - val_loss: 0.0017\n",
            "Epoch 40/250\n",
            "63/63 - 0s - loss: 0.0015 - val_loss: 0.0011\n",
            "Epoch 41/250\n",
            "63/63 - 0s - loss: 0.0018 - val_loss: 0.0031\n",
            "Epoch 42/250\n",
            "63/63 - 0s - loss: 0.0016 - val_loss: 0.0033\n",
            "Epoch 43/250\n",
            "63/63 - 0s - loss: 0.0014 - val_loss: 0.0015\n",
            "Epoch 44/250\n",
            "63/63 - 0s - loss: 0.0015 - val_loss: 0.0023\n",
            "Epoch 45/250\n",
            "63/63 - 0s - loss: 0.0014 - val_loss: 0.0023\n",
            "Epoch 46/250\n",
            "63/63 - 0s - loss: 0.0013 - val_loss: 0.0015\n",
            "Epoch 47/250\n",
            "63/63 - 0s - loss: 0.0013 - val_loss: 0.0020\n",
            "Epoch 48/250\n",
            "63/63 - 0s - loss: 0.0013 - val_loss: 0.0021\n",
            "Epoch 49/250\n",
            "63/63 - 0s - loss: 0.0013 - val_loss: 0.0014\n",
            "Epoch 50/250\n",
            "63/63 - 0s - loss: 0.0014 - val_loss: 0.0037\n",
            "Epoch 51/250\n",
            "63/63 - 0s - loss: 0.0012 - val_loss: 9.0719e-04\n",
            "Epoch 52/250\n",
            "63/63 - 0s - loss: 0.0015 - val_loss: 0.0021\n",
            "Epoch 53/250\n",
            "63/63 - 0s - loss: 0.0014 - val_loss: 0.0031\n",
            "Epoch 54/250\n",
            "63/63 - 0s - loss: 0.0015 - val_loss: 0.0030\n",
            "Epoch 55/250\n",
            "63/63 - 0s - loss: 0.0012 - val_loss: 0.0024\n",
            "Epoch 56/250\n",
            "63/63 - 0s - loss: 0.0013 - val_loss: 0.0023\n",
            "Epoch 57/250\n",
            "63/63 - 0s - loss: 0.0012 - val_loss: 0.0011\n",
            "Epoch 58/250\n",
            "63/63 - 0s - loss: 0.0014 - val_loss: 0.0015\n",
            "Epoch 59/250\n",
            "63/63 - 0s - loss: 0.0013 - val_loss: 0.0013\n",
            "Epoch 60/250\n",
            "63/63 - 0s - loss: 0.0012 - val_loss: 0.0015\n",
            "Epoch 61/250\n",
            "63/63 - 0s - loss: 0.0014 - val_loss: 0.0013\n",
            "Epoch 62/250\n",
            "63/63 - 0s - loss: 0.0012 - val_loss: 9.5084e-04\n",
            "Epoch 63/250\n",
            "63/63 - 0s - loss: 0.0011 - val_loss: 0.0014\n",
            "Epoch 64/250\n",
            "63/63 - 0s - loss: 0.0012 - val_loss: 0.0019\n",
            "Epoch 65/250\n",
            "63/63 - 0s - loss: 0.0012 - val_loss: 7.8602e-04\n",
            "Epoch 66/250\n",
            "63/63 - 0s - loss: 0.0012 - val_loss: 0.0013\n",
            "Epoch 67/250\n",
            "63/63 - 0s - loss: 0.0011 - val_loss: 0.0012\n",
            "Epoch 68/250\n",
            "63/63 - 0s - loss: 0.0011 - val_loss: 9.9995e-04\n",
            "Epoch 69/250\n",
            "63/63 - 0s - loss: 0.0012 - val_loss: 9.6293e-04\n",
            "Epoch 70/250\n",
            "63/63 - 0s - loss: 0.0012 - val_loss: 0.0014\n",
            "Epoch 71/250\n",
            "63/63 - 0s - loss: 0.0012 - val_loss: 0.0012\n",
            "Epoch 72/250\n",
            "63/63 - 0s - loss: 0.0014 - val_loss: 0.0021\n",
            "Epoch 73/250\n",
            "63/63 - 0s - loss: 0.0013 - val_loss: 0.0019\n",
            "Epoch 74/250\n",
            "63/63 - 0s - loss: 0.0015 - val_loss: 0.0037\n",
            "Epoch 75/250\n",
            "63/63 - 0s - loss: 0.0013 - val_loss: 0.0013\n",
            "Epoch 76/250\n",
            "63/63 - 0s - loss: 0.0013 - val_loss: 0.0018\n",
            "Epoch 77/250\n",
            "63/63 - 0s - loss: 0.0013 - val_loss: 0.0016\n",
            "Epoch 78/250\n",
            "63/63 - 0s - loss: 0.0013 - val_loss: 0.0020\n",
            "Epoch 79/250\n",
            "63/63 - 0s - loss: 0.0012 - val_loss: 0.0024\n",
            "Epoch 80/250\n",
            "63/63 - 0s - loss: 0.0011 - val_loss: 6.3359e-04\n",
            "Epoch 81/250\n",
            "63/63 - 0s - loss: 0.0013 - val_loss: 0.0019\n",
            "Epoch 82/250\n",
            "63/63 - 0s - loss: 0.0013 - val_loss: 0.0023\n",
            "Epoch 83/250\n",
            "63/63 - 0s - loss: 0.0012 - val_loss: 8.3134e-04\n",
            "Epoch 84/250\n",
            "63/63 - 0s - loss: 0.0012 - val_loss: 0.0011\n",
            "Epoch 85/250\n",
            "63/63 - 0s - loss: 0.0013 - val_loss: 0.0014\n",
            "Epoch 86/250\n",
            "63/63 - 0s - loss: 0.0012 - val_loss: 0.0018\n",
            "Epoch 87/250\n",
            "63/63 - 0s - loss: 0.0011 - val_loss: 0.0015\n",
            "Epoch 88/250\n",
            "63/63 - 0s - loss: 0.0011 - val_loss: 9.3346e-04\n",
            "Epoch 89/250\n",
            "63/63 - 0s - loss: 0.0012 - val_loss: 0.0015\n",
            "Epoch 90/250\n",
            "63/63 - 0s - loss: 0.0011 - val_loss: 4.7443e-04\n",
            "Epoch 91/250\n",
            "63/63 - 0s - loss: 0.0012 - val_loss: 8.4256e-04\n",
            "Epoch 92/250\n",
            "63/63 - 0s - loss: 0.0012 - val_loss: 8.5261e-04\n",
            "Epoch 93/250\n",
            "63/63 - 0s - loss: 0.0013 - val_loss: 0.0018\n",
            "Epoch 94/250\n",
            "63/63 - 0s - loss: 0.0012 - val_loss: 9.8524e-04\n",
            "Epoch 95/250\n",
            "63/63 - 0s - loss: 0.0012 - val_loss: 0.0023\n",
            "Epoch 96/250\n",
            "63/63 - 0s - loss: 0.0011 - val_loss: 7.4742e-04\n",
            "Epoch 97/250\n",
            "63/63 - 0s - loss: 0.0012 - val_loss: 0.0019\n",
            "Epoch 98/250\n",
            "63/63 - 0s - loss: 0.0011 - val_loss: 7.9580e-04\n",
            "Epoch 99/250\n",
            "63/63 - 0s - loss: 0.0013 - val_loss: 0.0015\n",
            "Epoch 100/250\n",
            "63/63 - 0s - loss: 0.0012 - val_loss: 0.0022\n",
            "Epoch 101/250\n",
            "63/63 - 0s - loss: 0.0011 - val_loss: 0.0012\n",
            "Epoch 102/250\n",
            "63/63 - 0s - loss: 0.0012 - val_loss: 6.8642e-04\n",
            "Epoch 103/250\n",
            "63/63 - 0s - loss: 0.0012 - val_loss: 0.0023\n",
            "Epoch 104/250\n",
            "63/63 - 0s - loss: 0.0012 - val_loss: 0.0016\n",
            "Epoch 105/250\n",
            "63/63 - 0s - loss: 0.0011 - val_loss: 0.0015\n",
            "Epoch 106/250\n",
            "63/63 - 0s - loss: 0.0012 - val_loss: 0.0011\n",
            "Epoch 107/250\n",
            "63/63 - 0s - loss: 0.0012 - val_loss: 0.0011\n",
            "Epoch 108/250\n",
            "63/63 - 0s - loss: 0.0012 - val_loss: 0.0010\n",
            "Epoch 109/250\n",
            "63/63 - 0s - loss: 0.0012 - val_loss: 0.0012\n",
            "Epoch 110/250\n",
            "63/63 - 0s - loss: 0.0011 - val_loss: 8.8759e-04\n",
            "Epoch 111/250\n",
            "63/63 - 0s - loss: 0.0011 - val_loss: 8.5586e-04\n",
            "Epoch 112/250\n",
            "63/63 - 0s - loss: 0.0012 - val_loss: 0.0014\n",
            "Epoch 113/250\n",
            "63/63 - 0s - loss: 0.0012 - val_loss: 0.0011\n",
            "Epoch 114/250\n",
            "63/63 - 0s - loss: 0.0012 - val_loss: 0.0022\n",
            "Epoch 115/250\n",
            "63/63 - 0s - loss: 0.0011 - val_loss: 0.0011\n",
            "Epoch 116/250\n",
            "63/63 - 0s - loss: 0.0011 - val_loss: 9.2425e-04\n",
            "Epoch 117/250\n",
            "63/63 - 0s - loss: 0.0012 - val_loss: 0.0013\n",
            "Epoch 118/250\n",
            "63/63 - 0s - loss: 0.0011 - val_loss: 0.0011\n",
            "Epoch 119/250\n",
            "63/63 - 0s - loss: 0.0012 - val_loss: 0.0016\n",
            "Epoch 120/250\n",
            "63/63 - 0s - loss: 0.0011 - val_loss: 9.8360e-04\n",
            "Epoch 121/250\n",
            "63/63 - 0s - loss: 0.0011 - val_loss: 9.9988e-04\n",
            "Epoch 122/250\n",
            "63/63 - 0s - loss: 0.0010 - val_loss: 6.6598e-04\n",
            "Epoch 123/250\n",
            "63/63 - 0s - loss: 0.0013 - val_loss: 0.0013\n",
            "Epoch 124/250\n",
            "63/63 - 0s - loss: 0.0011 - val_loss: 0.0010\n",
            "Epoch 125/250\n",
            "63/63 - 0s - loss: 0.0012 - val_loss: 0.0013\n",
            "Epoch 126/250\n",
            "63/63 - 0s - loss: 0.0010 - val_loss: 0.0013\n",
            "Epoch 127/250\n",
            "63/63 - 0s - loss: 0.0011 - val_loss: 9.2055e-04\n",
            "Epoch 128/250\n",
            "63/63 - 0s - loss: 0.0012 - val_loss: 0.0016\n",
            "Epoch 129/250\n",
            "63/63 - 0s - loss: 0.0012 - val_loss: 0.0017\n",
            "Epoch 130/250\n",
            "63/63 - 0s - loss: 9.9580e-04 - val_loss: 7.2412e-04\n",
            "Epoch 131/250\n",
            "63/63 - 0s - loss: 0.0011 - val_loss: 7.5296e-04\n",
            "Epoch 132/250\n",
            "63/63 - 0s - loss: 0.0011 - val_loss: 8.6407e-04\n",
            "Epoch 133/250\n",
            "63/63 - 0s - loss: 0.0011 - val_loss: 0.0014\n",
            "Epoch 134/250\n",
            "63/63 - 0s - loss: 0.0011 - val_loss: 5.8217e-04\n",
            "Epoch 135/250\n",
            "63/63 - 0s - loss: 0.0011 - val_loss: 9.2068e-04\n",
            "Epoch 136/250\n",
            "63/63 - 0s - loss: 0.0010 - val_loss: 5.8968e-04\n",
            "Epoch 137/250\n",
            "63/63 - 0s - loss: 0.0011 - val_loss: 9.5428e-04\n",
            "Epoch 138/250\n",
            "63/63 - 0s - loss: 0.0012 - val_loss: 0.0010\n",
            "Epoch 139/250\n",
            "63/63 - 0s - loss: 0.0011 - val_loss: 0.0013\n",
            "Epoch 140/250\n",
            "63/63 - 0s - loss: 0.0011 - val_loss: 0.0013\n",
            "Epoch 141/250\n",
            "63/63 - 0s - loss: 0.0011 - val_loss: 0.0010\n",
            "Epoch 142/250\n",
            "63/63 - 0s - loss: 0.0011 - val_loss: 9.5670e-04\n",
            "Epoch 143/250\n",
            "63/63 - 0s - loss: 0.0012 - val_loss: 6.8258e-04\n",
            "Epoch 144/250\n",
            "63/63 - 0s - loss: 0.0011 - val_loss: 4.9296e-04\n",
            "Epoch 145/250\n",
            "63/63 - 0s - loss: 0.0010 - val_loss: 5.8045e-04\n",
            "Epoch 146/250\n",
            "63/63 - 0s - loss: 0.0012 - val_loss: 0.0016\n",
            "Epoch 147/250\n",
            "63/63 - 0s - loss: 0.0011 - val_loss: 7.3306e-04\n",
            "Epoch 148/250\n",
            "63/63 - 0s - loss: 0.0011 - val_loss: 0.0013\n",
            "Epoch 149/250\n",
            "63/63 - 0s - loss: 0.0011 - val_loss: 6.3642e-04\n",
            "Epoch 150/250\n",
            "63/63 - 0s - loss: 0.0011 - val_loss: 6.0155e-04\n",
            "Epoch 151/250\n",
            "63/63 - 0s - loss: 9.5826e-04 - val_loss: 6.5230e-04\n",
            "Epoch 152/250\n",
            "63/63 - 0s - loss: 0.0011 - val_loss: 0.0014\n",
            "Epoch 153/250\n",
            "63/63 - 0s - loss: 0.0010 - val_loss: 5.0347e-04\n",
            "Epoch 154/250\n",
            "63/63 - 0s - loss: 0.0012 - val_loss: 9.3887e-04\n",
            "Epoch 155/250\n",
            "63/63 - 0s - loss: 0.0011 - val_loss: 7.5225e-04\n",
            "Epoch 156/250\n",
            "63/63 - 0s - loss: 0.0011 - val_loss: 6.5206e-04\n",
            "Epoch 157/250\n",
            "63/63 - 0s - loss: 0.0012 - val_loss: 0.0018\n",
            "Epoch 158/250\n",
            "63/63 - 0s - loss: 0.0011 - val_loss: 0.0012\n",
            "Epoch 159/250\n",
            "63/63 - 0s - loss: 0.0010 - val_loss: 9.7152e-04\n",
            "Epoch 160/250\n",
            "63/63 - 0s - loss: 0.0011 - val_loss: 4.3518e-04\n",
            "Epoch 161/250\n",
            "63/63 - 0s - loss: 0.0011 - val_loss: 9.9681e-04\n",
            "Epoch 162/250\n",
            "63/63 - 0s - loss: 0.0011 - val_loss: 5.3789e-04\n",
            "Epoch 163/250\n",
            "63/63 - 0s - loss: 0.0011 - val_loss: 6.7441e-04\n",
            "Epoch 164/250\n",
            "63/63 - 0s - loss: 9.7720e-04 - val_loss: 8.7868e-04\n",
            "Epoch 165/250\n",
            "63/63 - 0s - loss: 0.0011 - val_loss: 5.7305e-04\n",
            "Epoch 166/250\n",
            "63/63 - 0s - loss: 0.0011 - val_loss: 0.0012\n",
            "Epoch 167/250\n",
            "63/63 - 0s - loss: 0.0012 - val_loss: 0.0013\n",
            "Epoch 168/250\n",
            "63/63 - 0s - loss: 0.0012 - val_loss: 6.3148e-04\n",
            "Epoch 169/250\n",
            "63/63 - 0s - loss: 0.0012 - val_loss: 0.0015\n",
            "Epoch 170/250\n",
            "63/63 - 0s - loss: 0.0011 - val_loss: 0.0014\n",
            "Epoch 171/250\n",
            "63/63 - 0s - loss: 0.0012 - val_loss: 7.2303e-04\n",
            "Epoch 172/250\n",
            "63/63 - 0s - loss: 0.0013 - val_loss: 0.0014\n",
            "Epoch 173/250\n",
            "63/63 - 0s - loss: 0.0011 - val_loss: 8.9571e-04\n",
            "Epoch 174/250\n",
            "63/63 - 0s - loss: 0.0011 - val_loss: 5.4413e-04\n",
            "Epoch 175/250\n",
            "63/63 - 0s - loss: 0.0012 - val_loss: 4.7283e-04\n",
            "Epoch 176/250\n",
            "63/63 - 0s - loss: 0.0011 - val_loss: 0.0011\n",
            "Epoch 177/250\n",
            "63/63 - 0s - loss: 0.0011 - val_loss: 0.0011\n",
            "Epoch 178/250\n",
            "63/63 - 0s - loss: 0.0011 - val_loss: 0.0010\n",
            "Epoch 179/250\n",
            "63/63 - 0s - loss: 0.0012 - val_loss: 0.0011\n",
            "Epoch 180/250\n",
            "63/63 - 0s - loss: 0.0011 - val_loss: 0.0011\n",
            "Epoch 181/250\n",
            "63/63 - 0s - loss: 9.8629e-04 - val_loss: 9.4814e-04\n",
            "Epoch 182/250\n",
            "63/63 - 0s - loss: 0.0010 - val_loss: 7.1098e-04\n",
            "Epoch 183/250\n",
            "63/63 - 0s - loss: 0.0010 - val_loss: 7.3522e-04\n",
            "Epoch 184/250\n",
            "63/63 - 0s - loss: 0.0010 - val_loss: 6.2756e-04\n",
            "Epoch 185/250\n",
            "63/63 - 0s - loss: 9.5538e-04 - val_loss: 3.9853e-04\n",
            "Epoch 186/250\n",
            "63/63 - 0s - loss: 9.9674e-04 - val_loss: 3.1392e-04\n",
            "Epoch 187/250\n",
            "63/63 - 0s - loss: 0.0011 - val_loss: 8.8441e-04\n",
            "Epoch 188/250\n",
            "63/63 - 0s - loss: 0.0011 - val_loss: 0.0011\n",
            "Epoch 189/250\n",
            "63/63 - 0s - loss: 0.0011 - val_loss: 8.5073e-04\n",
            "Epoch 190/250\n",
            "63/63 - 0s - loss: 9.6523e-04 - val_loss: 6.2722e-04\n",
            "Epoch 191/250\n",
            "63/63 - 0s - loss: 0.0011 - val_loss: 0.0011\n",
            "Epoch 192/250\n",
            "63/63 - 0s - loss: 0.0011 - val_loss: 0.0010\n",
            "Epoch 193/250\n",
            "63/63 - 0s - loss: 0.0010 - val_loss: 6.1959e-04\n",
            "Epoch 194/250\n",
            "63/63 - 0s - loss: 0.0012 - val_loss: 0.0010\n",
            "Epoch 195/250\n",
            "63/63 - 0s - loss: 0.0010 - val_loss: 4.5667e-04\n",
            "Epoch 196/250\n",
            "63/63 - 0s - loss: 0.0011 - val_loss: 8.2185e-04\n",
            "Epoch 197/250\n",
            "63/63 - 0s - loss: 0.0011 - val_loss: 0.0011\n",
            "Epoch 198/250\n",
            "63/63 - 0s - loss: 0.0010 - val_loss: 4.1347e-04\n",
            "Epoch 199/250\n",
            "63/63 - 0s - loss: 0.0011 - val_loss: 7.9788e-04\n",
            "Epoch 200/250\n",
            "63/63 - 0s - loss: 0.0010 - val_loss: 0.0010\n",
            "Epoch 201/250\n",
            "63/63 - 0s - loss: 9.6372e-04 - val_loss: 6.7544e-04\n",
            "Epoch 202/250\n",
            "63/63 - 0s - loss: 0.0011 - val_loss: 0.0019\n",
            "Epoch 203/250\n",
            "63/63 - 0s - loss: 0.0011 - val_loss: 4.7692e-04\n",
            "Epoch 204/250\n",
            "63/63 - 0s - loss: 0.0012 - val_loss: 0.0012\n",
            "Epoch 205/250\n",
            "63/63 - 0s - loss: 9.4374e-04 - val_loss: 0.0010\n",
            "Epoch 206/250\n",
            "63/63 - 0s - loss: 0.0011 - val_loss: 5.4718e-04\n",
            "Epoch 207/250\n",
            "63/63 - 0s - loss: 0.0011 - val_loss: 0.0014\n",
            "Epoch 208/250\n",
            "63/63 - 0s - loss: 9.3602e-04 - val_loss: 4.1207e-04\n",
            "Epoch 209/250\n",
            "63/63 - 0s - loss: 9.6563e-04 - val_loss: 4.7407e-04\n",
            "Epoch 210/250\n",
            "63/63 - 0s - loss: 9.9331e-04 - val_loss: 6.5716e-04\n",
            "Epoch 211/250\n",
            "63/63 - 0s - loss: 9.8053e-04 - val_loss: 4.3331e-04\n",
            "Epoch 212/250\n",
            "63/63 - 0s - loss: 0.0011 - val_loss: 8.6228e-04\n",
            "Epoch 213/250\n",
            "63/63 - 0s - loss: 0.0011 - val_loss: 4.5551e-04\n",
            "Epoch 214/250\n",
            "63/63 - 0s - loss: 0.0011 - val_loss: 8.8101e-04\n",
            "Epoch 215/250\n",
            "63/63 - 0s - loss: 0.0011 - val_loss: 0.0013\n",
            "Epoch 216/250\n",
            "63/63 - 0s - loss: 9.8402e-04 - val_loss: 9.6592e-04\n",
            "Epoch 217/250\n",
            "63/63 - 0s - loss: 0.0011 - val_loss: 3.5098e-04\n",
            "Epoch 218/250\n",
            "63/63 - 0s - loss: 0.0010 - val_loss: 6.1146e-04\n",
            "Epoch 219/250\n",
            "63/63 - 0s - loss: 0.0011 - val_loss: 8.1543e-04\n",
            "Epoch 220/250\n",
            "63/63 - 0s - loss: 0.0011 - val_loss: 8.4424e-04\n",
            "Epoch 221/250\n",
            "63/63 - 0s - loss: 0.0010 - val_loss: 9.6671e-04\n",
            "Epoch 222/250\n",
            "63/63 - 0s - loss: 0.0011 - val_loss: 9.2532e-04\n",
            "Epoch 223/250\n",
            "63/63 - 0s - loss: 0.0010 - val_loss: 5.8031e-04\n",
            "Epoch 224/250\n",
            "63/63 - 0s - loss: 0.0010 - val_loss: 8.0741e-04\n",
            "Epoch 225/250\n",
            "63/63 - 0s - loss: 0.0011 - val_loss: 5.9304e-04\n",
            "Epoch 226/250\n",
            "63/63 - 0s - loss: 0.0011 - val_loss: 4.7247e-04\n",
            "Epoch 227/250\n",
            "63/63 - 0s - loss: 0.0011 - val_loss: 0.0010\n",
            "Epoch 228/250\n",
            "63/63 - 0s - loss: 0.0011 - val_loss: 0.0010\n",
            "Epoch 229/250\n",
            "63/63 - 0s - loss: 0.0010 - val_loss: 3.3037e-04\n",
            "Epoch 230/250\n",
            "63/63 - 0s - loss: 9.9934e-04 - val_loss: 5.5017e-04\n",
            "Epoch 231/250\n",
            "63/63 - 0s - loss: 9.6485e-04 - val_loss: 4.7639e-04\n",
            "Epoch 232/250\n",
            "63/63 - 0s - loss: 0.0010 - val_loss: 5.6966e-04\n",
            "Epoch 233/250\n",
            "63/63 - 0s - loss: 0.0011 - val_loss: 7.2323e-04\n",
            "Epoch 234/250\n",
            "63/63 - 0s - loss: 0.0010 - val_loss: 0.0011\n",
            "Epoch 235/250\n",
            "63/63 - 0s - loss: 9.9710e-04 - val_loss: 2.8207e-04\n",
            "Epoch 236/250\n",
            "63/63 - 0s - loss: 9.4840e-04 - val_loss: 2.9281e-04\n",
            "Epoch 237/250\n",
            "63/63 - 0s - loss: 0.0011 - val_loss: 6.9487e-04\n",
            "Epoch 238/250\n",
            "63/63 - 0s - loss: 9.8653e-04 - val_loss: 3.1744e-04\n",
            "Epoch 239/250\n",
            "63/63 - 0s - loss: 0.0011 - val_loss: 4.6546e-04\n",
            "Epoch 240/250\n",
            "63/63 - 0s - loss: 9.7143e-04 - val_loss: 5.8608e-04\n",
            "Epoch 241/250\n",
            "63/63 - 0s - loss: 0.0010 - val_loss: 4.2887e-04\n",
            "Epoch 242/250\n",
            "63/63 - 0s - loss: 9.7278e-04 - val_loss: 8.3581e-04\n",
            "Epoch 243/250\n",
            "63/63 - 0s - loss: 9.2820e-04 - val_loss: 4.8452e-04\n",
            "Epoch 244/250\n",
            "63/63 - 0s - loss: 0.0010 - val_loss: 7.5223e-04\n",
            "Epoch 245/250\n",
            "63/63 - 0s - loss: 9.7862e-04 - val_loss: 4.1196e-04\n",
            "Epoch 246/250\n",
            "63/63 - 0s - loss: 0.0011 - val_loss: 0.0014\n",
            "Epoch 247/250\n",
            "63/63 - 0s - loss: 0.0010 - val_loss: 9.4873e-04\n",
            "Epoch 248/250\n",
            "63/63 - 0s - loss: 9.6810e-04 - val_loss: 6.1912e-04\n",
            "Epoch 249/250\n",
            "63/63 - 0s - loss: 0.0010 - val_loss: 3.4706e-04\n",
            "Epoch 250/250\n",
            "63/63 - 0s - loss: 0.0011 - val_loss: 0.0013\n"
          ],
          "name": "stdout"
        }
      ]
    },
    {
      "cell_type": "code",
      "metadata": {
        "id": "OpxFJQdDZSWT",
        "colab_type": "code",
        "colab": {
          "base_uri": "https://localhost:8080/",
          "height": 282
        },
        "outputId": "f8a00627-8576-447b-c388-62a92842a343"
      },
      "source": [
        "# 5. 학습과정 살펴보기\n",
        "plt.plot(hist.history['loss'], label='train_check')\n",
        "plt.plot(hist.history['val_loss'], label='lee')\n",
        "#plt.ylim(0.0, 0.15)\n",
        "plt.ylabel('loss')\n",
        "plt.xlabel('epoch')\n",
        "#plt.legend(['train', 'val'], loc='upper left')\n",
        "plt.legend()\n",
        "plt.show()"
      ],
      "execution_count": null,
      "outputs": [
        {
          "output_type": "display_data",
          "data": {
            "image/png": "[encoded data removed]",
            "text/plain": [
              "<Figure size 432x288 with 1 Axes>"
            ]
          },
          "metadata": {
            "tags": [],
            "needs_background": "light"
          }
        }
      ]
    },
    {
      "cell_type": "code",
      "metadata": {
        "id": "s7Yw-URsZSWd",
        "colab_type": "code",
        "colab": {
          "base_uri": "https://localhost:8080/",
          "height": 320
        },
        "outputId": "fa84cc60-1c97-42a7-a709-c7fb6fd35186"
      },
      "source": [
        "look_ahead = 200\n",
        "xhat = x_test[0]\n",
        "predictions = np.zeros((look_ahead,1))\n",
        "\n",
        "for i in range(look_ahead):\n",
        "    prediction = model.predict(np.array([xhat]), batch_size=1)\n",
        "    predictions[i] = prediction\n",
        "    xhat = np.vstack([xhat[1:],prediction])\n",
        "    \n",
        "plt.figure(figsize=(12,5))\n",
        "plt.plot(np.arange(look_ahead),predictions,'r',label=\"prediction\")\n",
        "plt.plot(np.arange(look_ahead),y_test[:look_ahead],label=\"test function\")\n",
        "plt.legend()\n",
        "plt.show()"
      ],
      "execution_count": null,
      "outputs": [
        {
          "output_type": "display_data",
          "data": {
            "image/png": "[encoded data removed]",
            "text/plain": [
              "<Figure size 864x360 with 1 Axes>"
            ]
          },
          "metadata": {
            "tags": [],
            "needs_background": "light"
          }
        }
      ]
    },
    {
      "cell_type": "code",
      "metadata": {
        "id": "39O1uy84ZSWn",
        "colab_type": "code",
        "colab": {}
      },
      "source": [
        "\n",
        "# plt.figure(figsize=(10,10))\n",
        "# plt.plot(price)\n",
        "\n",
        "# split_pt = train_test_split + time_steps\n",
        "# plt.plot(np.arange(window_size, split_pt, 1), train_predict, color='g')\n",
        "\n",
        "# plt.plot(np.arange(split_pt, split_pt + len(test_predict), 1), test_predict, color='r')"
      ],
      "execution_count": null,
      "outputs": []
    },
    {
      "cell_type": "code",
      "metadata": {
        "id": "NHt2-s6EZSWu",
        "colab_type": "code",
        "colab": {}
      },
      "source": [
        ""
      ],
      "execution_count": null,
      "outputs": []
    }
  ]
}